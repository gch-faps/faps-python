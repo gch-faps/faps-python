{
 "cells": [
  {
   "cell_type": "markdown",
   "metadata": {},
   "source": [
    "<center><h1> THEME 2 - Calculs avec Numpy </h1></center>\n",
    "\n",
    "### Objectifs\n",
    "\n",
    "- Effectuer des calculs vectoriels et matriciels avec le module Numpy\n",
    "- Utiliser diverses fonctions disponibles pour résoudre des problèmes en GCH\n",
    "\n",
    "### Notions \n",
    "\n",
    "- [Exemple 1](#ex1): Indexation de vecteurs, opérations par vectorisation, masques binaires\n",
    "- [Exemple 2](#ex2): Indexation de matrices, opérations matricielles, résolution de systèmes linéaires\n",
    "- [Exemple 3](#ex3): Construction de matrices par vectorisation\n",
    "- [Exemple 4](#ex4): Manipulations plus avancées\n",
    "\n",
    "### Terminologie:\n",
    "\n",
    "- `ndarray` correspond à un tenseur numpy de dimension n. \n",
    "\n",
    "### Référence\n",
    "\n",
    "- [Documentation Numpy](https://numpy.org/doc/stable/reference/)\n",
    "\n",
    "---"
   ]
  },
  {
   "cell_type": "markdown",
   "metadata": {},
   "source": [
    "<center><h2 id='ex1'> Exemple 1 - Loi d'Arrhenius </h2></center>\n",
    "\n",
    "### Contexte\n",
    "En cinétique chimique, la loi d'Arrhenius permet de décrire la variation de la vitesse d'une réaction chimique en fonction de la température en suvant la relation suivante: \n",
    "\n",
    "$$\n",
    "\\begin{aligned}\n",
    "k=A \\cdot \\mathrm{e}^{\\frac{-E_{A}}{R T}}\n",
    "\\end{aligned}\n",
    "$$\n",
    "\n",
    "- $k$, coefficient de vitesse de la réaction\n",
    "- $A$, facteur pré-exponentiel\n",
    "- $T$, température en K\n",
    "- $R$, constante des gazs parfaits\n",
    "- $E_{A}$, énergie d'activation\n"
   ]
  },
  {
   "cell_type": "markdown",
   "metadata": {},
   "source": [
    "### Code\n",
    "\n",
    "On commence par importer la librairie numpy et d'initialiser les constantes du problème"
   ]
  },
  {
   "cell_type": "code",
   "execution_count": 2,
   "metadata": {},
   "outputs": [],
   "source": [
    "import numpy as np\n",
    "import matplotlib.pyplot as plt # Sera vu plus en détail dans le thème 3\n",
    "\n",
    "A = 9.0 #(1/s)\n",
    "R = 8.314 #(kPa.L/mol.K)\n",
    "E_A = 200 #(kJ/mol)\n",
    "\n",
    "vec_T = np.array([300, 400, 500, 600, 700, 800, 900, 1000])\t# Creation manuelle du vecteur de températures"
   ]
  },
  {
   "cell_type": "markdown",
   "metadata": {},
   "source": [
    "Pour discretiser T automatiquement, on a le choix entre:\n",
    "- `np.arange(debut, fin, pas)`: génére les points si l'on veut un $\\delta T$ spécifique\n",
    "- `np.linspace(debut, fin, nb de points)`: génère le nombre de points voulus espacés linéairement\n",
    "\n",
    "Ces fonctions retournent un vecteur des valeurs. "
   ]
  },
  {
   "cell_type": "code",
   "execution_count": 3,
   "metadata": {},
   "outputs": [
    {
     "name": "stdout",
     "output_type": "stream",
     "text": [
      "130.0\n",
      "[100. 103. 106. 109. 112. 115. 118. 121. 124. 127.]\n",
      "[373. 376. 379. 382. 385. 388. 391. 394. 397. 400.]\n",
      "[385. 388. 391. 394. 397.]\n",
      "[100. 115. 130. 145.]\n"
     ]
    }
   ],
   "source": [
    "vec_T = np.linspace(100,400,101) # Discrétisation linéaire de 100 points entre 100 et 400 K\n",
    "\n",
    "print(vec_T[10]) # Affiche le 11e élément de T puisque l'indexation en python commence à 0\n",
    "print(vec_T[:10]) # Affiche les 10 premiers éléments de T\n",
    "print(vec_T[91:]) # Affiche les 10 derniers éléments de T\n",
    "print(vec_T[95:-1]) # Affiche les valeurs entre l'indice 95 et le dernier élement du vecteur tout en excluant ce dernier\n",
    "print(vec_T[0:20:5]) # Affiche les éléments de T à indices multiples de 5 entre 0 et 20"
   ]
  },
  {
   "cell_type": "markdown",
   "metadata": {},
   "source": [
    "Pour calculer les valeurs de $k$ à chacunes de ces températures, plutot que d'utiliser une boucle `for` pour passer à travers les valeurs de T, il est mieux d'utiliser les capacités de **vectorisaton** de Numpy pour effectuer les opérations directement avec le vecteur T. \n",
    "\n",
    "- Un vecteur multiplié, divisé ou élevé à la puissance par un scalaire va effectuer l'opération sur chacun de ses éléments. \n",
    "- 2 vecteurs peuvent subir toutes les opérations mathématiques entre eux tant que leurs dimensions sont égales. "
   ]
  },
  {
   "cell_type": "code",
   "execution_count": 4,
   "metadata": {},
   "outputs": [
    {
     "data": {
      "image/png": "[encoded data removed]",
      "text/plain": [
       "<Figure size 432x288 with 1 Axes>"
      ]
     },
     "metadata": {
      "needs_background": "light"
     },
     "output_type": "display_data"
    },
    {
     "name": "stdout",
     "output_type": "stream",
     "text": [
      "101\n"
     ]
    }
   ],
   "source": [
    "vec_k = A*np.exp(-E_A/(R*vec_T)) # np.exp retourne la valeur de l'exponentielle\n",
    "\n",
    "plt.plot(vec_T, vec_k)\n",
    "plt.show()\n",
    "\n",
    "# Puisque le calcul est effectué sur 101 points, le vecteur k contient 101 éléments\n",
    "print(vec_k.size) # k.size ou len(k) retourne le nombre d'élements du vecteur\n"
   ]
  },
  {
   "cell_type": "markdown",
   "metadata": {},
   "source": [
    "Les expressions booléennes de numpy permettent d'exprimer des conditions qui vont être évaluées pour chaque élément du vecteur et retourner un `True` ou `False` pour chaque valeur. "
   ]
  },
  {
   "cell_type": "code",
   "execution_count": 5,
   "metadata": {},
   "outputs": [
    {
     "name": "stdout",
     "output_type": "stream",
     "text": [
      "[8.11355195 8.14503012 8.28827336 8.30871484 8.30871484 7.44698129\n",
      " 8.40054644 7.76512787 8.01705901 8.41981609]\n",
      "[ True  True  True  True  True False  True False  True  True]\n",
      "[False False False  True  True False  True False False  True]\n",
      "[ True  True  True False False False False False  True False]\n",
      "[8.11355195 8.14503012 8.28827336 7.44698129 7.76512787 8.01705901]\n",
      "[0 1 2 5 7 8]\n"
     ]
    }
   ],
   "source": [
    "np.random.seed(0)\n",
    "vec_k_rand = np.random.choice(vec_k,10) # Choisit 10 éléments aléatoirement du vecteur k\n",
    "\n",
    "print(vec_k_rand)\n",
    "print(vec_k_rand > 8.0) # Vecteur booléen qui retourne True pour les éléments de k supérieurs à 8.0\n",
    "print(~(vec_k_rand < 8.3)) # ~ inverse le booléen\n",
    "print((vec_k_rand > 8.0) & (vec_k_rand < 8.3)) # & = ET, | = OU\n",
    "print(vec_k_rand[(vec_k_rand < 8.3)]) # Retourne un vecteur des valeurs de k inférieures à 8.3\n",
    "print((vec_k_rand < 8.3).nonzero()[0]) # Retourne un vecteur des indices des valeurs de k inférieures à 8.3\n",
    "\n"
   ]
  },
  {
   "cell_type": "markdown",
   "metadata": {},
   "source": [
    "### Astuces\n",
    "- Quand on utilise des vecteurs, il est important de faire attention que les unités sont consistantes, c'est à dire éviter de multiplier un vecteur d'entiers par un vecteur de décimaux.\n",
    "- Il est courant d'avoir l'erreur: `IndexError` au début, cela veut très souvent dire que le vecteur a été indexé avec une valeur plus grande que sa taille. \n",
    "\n",
    "---"
   ]
  },
  {
   "cell_type": "markdown",
   "metadata": {},
   "source": [
    "<center><h2 id='ex2'> Exemple 2 - Combustion d’un mélange gazeux </h2></center>\n",
    "\n",
    "### Contexte\n",
    "\n",
    "Un mélange gazeux composé de méthane, d’éthane et de propane est brûlé dans une fournaise avec de l’air en excès. Les débits molaires des gaz de combustion à la sortie de la fournaise sont donnés.\n",
    "\n",
    "Les trois réactions se déroulant dans la fournaise sont les suivantes :\n",
    "\n",
    "$$\n",
    "\\begin{gathered}\n",
    "\\mathrm{CH}_{4}+2 \\mathrm{O}_{2} \\rightarrow \\mathrm{CO}_{2}+2 \\mathrm{H}_{2} \\mathrm{O} \\\\\n",
    "\\mathrm{C}_{2} \\mathrm{H}_{6}+3.5 \\mathrm{O}_{2} \\rightarrow 2 \\mathrm{CO}_{2}+3 \\mathrm{H}_{2} \\mathrm{O} \\\\\n",
    "\\mathrm{C}_{3} \\mathrm{H}_{8}+5 \\mathrm{O}_{2} \\rightarrow 3 \\mathrm{CO}_{2}+4 \\mathrm{H}_{2} \\mathrm{O}\n",
    "\\end{gathered}\n",
    "$$\n",
    "\n",
    "Le débit à l'entrée du méthane est connu.\n",
    "$$\n",
    "\\begin{align*}\n",
    "n_{C H 4}=4.12 \\mathrm{~mol} / \\mathrm{s}\n",
    "\\end{align*}\n",
    "$$\n",
    "\n",
    "Bilan sur le carbone :\n",
    "$$\n",
    "\\begin{align*}\n",
    "n_{C H 4}+2 n_{C 2 H 6}+3 n_{C 3 H 8}=6.92\n",
    "\\end{align*}\n",
    "$$\n",
    "Bilan sur l'hydrogène :\n",
    "$$\n",
    "\\begin{align*}\n",
    "4 n_{C H 4}+6 n_{C 2 H 6}+8 n_{C 3 H 8}=24.48\n",
    "\\end{align*}\n",
    "$$\n",
    "\n",
    "### Objectif\n",
    "\n",
    "Trouver les débits d'éthane $n_{C 2 H 6}$ et de propane $n_{C 3 H 8}$ par résolution du système d'équation linéaire sous forme matricielle $An = b$."
   ]
  },
  {
   "cell_type": "markdown",
   "metadata": {},
   "source": [
    "### Code\n",
    "\n",
    "Dans Numpy, les matrices sont représentées par un vecteur qui contient plusieurs vecteurs qui font office de lignes, autrement dit, un vecteur 2D. L'indexation des matrices dans Numpy est basée sur les lignes, cela veut dire que l'indexation se fait par `[ligne, colonne]`. Sinon, l'indexation fonctionne de la même façon que les vecteurs.  "
   ]
  },
  {
   "cell_type": "code",
   "execution_count": 13,
   "metadata": {},
   "outputs": [
    {
     "name": "stdout",
     "output_type": "stream",
     "text": [
      "[[1 0 0]\n",
      " [1 2 3]\n",
      " [4 6 8]]\n",
      "2\n",
      "[2 6]\n",
      "[4 6 8]\n"
     ]
    }
   ],
   "source": [
    "# Creation matrice des coefficients A\n",
    "mat_A = np.array([[1,0,0],[1,2,3],[4,6,8]])\n",
    "print(mat_A)\n",
    "print(mat_A[1,1]) # Affiche la valeur de la 2ème ligne et de la 2ème colonne\n",
    "print(mat_A[1:,1]) # Affiche la 2ème colonne à partir de la 2ème ligne\n",
    "print(mat_A[2,:]) # Affiche la 3ème ligne\n",
    "\n",
    "# Création du vecteur b\n",
    "vec_b = np.array([4.12,6.92,24.48])"
   ]
  },
  {
   "cell_type": "markdown",
   "metadata": {},
   "source": [
    "Pour toute opération d'algèbre linéaire, le sous module `np.linalg` contient plein de fonctions utiles telles que `np.linalg.solve` pour résoudre un système $Ax=b$ et `np.linalg.inv` pour inverser une matrice. L'opérateur `@` est utilisé pour la multiplication matricielle. "
   ]
  },
  {
   "cell_type": "code",
   "execution_count": 14,
   "metadata": {},
   "outputs": [
    {
     "name": "stdout",
     "output_type": "stream",
     "text": [
      "[4.12 0.8  0.4 ]\n"
     ]
    }
   ],
   "source": [
    "vec_n = np.linalg.solve(mat_A,vec_b) # ou np.linalg.inv(mat_A) @ vec_b\n",
    "\n",
    "print(vec_n)"
   ]
  },
  {
   "cell_type": "markdown",
   "metadata": {},
   "source": [
    "<center><h2 id='ex3'> Exemple 3 - Interpolation Polynomiale</h2></center>\n",
    "\n",
    "### Contexte\n",
    "Lorsque l'on va au laboratoire pour déterminer les propriétés d’un matériau ou la vitesse d’une réaction, nous nous retrouvons avec des données discrètes, c’est à dire des couples de point $xi$ auquel nous associons une mesure (que nous appellerons fonction) $f(xi)$. Le but de l’interpolation sera de trouver un moyen d’évaluer $f(x)$ pour $x \\neq xi$. \n",
    "\n",
    "L'une de ces méthodes d'interpolation est l'interpolation polynomiale, qui consiste à construire un polynome de degré $n$ si l'on a $n-1$ points de référence. \n",
    "\n",
    "$$\n",
    "\\begin{aligned}\n",
    "p_{n}(x)= \\sum_{i = 0}^{n} a_{i} x^{i} = a_{0}+a_{1} x+a_{2} x^{2}+a_{3} x^{3}+\\ldots+a_{n} x^{n}\n",
    "\\end{aligned}\n",
    "$$\n",
    "\n",
    "On trouve les coefficients $a_{n}$ en résolvant le système $Aa = f$ où $A$ est la matrice de Vandermonde:\n",
    "\n",
    "$$\n",
    "\\begin{align*}\n",
    "\\left[\\begin{array}{ccccc}\n",
    "1 & x_{0} & x_{0}^{2} & \\cdots & x_{0}^{n} \\\\\n",
    "1 & x_{1} & x_{1}^{2} & \\cdots & x_{1}^{n} \\\\\n",
    "1 & x_{2} & x_{2}^{2} & \\cdots & \\vdots \\\\\n",
    "\\vdots & \\vdots & \\vdots & \\ddots & \\vdots \\\\\n",
    "1 & x_{n} & x_{n}^{2} & \\cdots & x_{n}^{n}\n",
    "\\end{array}\\right]\\left[\\begin{array}{c}\n",
    "a_{0} \\\\\n",
    "a_{1} \\\\\n",
    "a_{2} \\\\\n",
    "\\vdots \\\\\n",
    "a_{n}\n",
    "\\end{array}\\right]=\\left[\\begin{array}{c}\n",
    "f\\left(x_{0}\\right) \\\\\n",
    "f\\left(x_{1}\\right) \\\\\n",
    "f\\left(x_{2}\\right) \\\\\n",
    "\\vdots \\\\\n",
    "f\\left(x_{n}\\right)\n",
    "\\end{array}\\right]\n",
    "\\end{align*}\n",
    "$$\n",
    "\n",
    "### Objectif\n",
    "\n",
    "Évaluer $\\frac{1}{1+25x^2}$ à 5 points espacés régulièrement et construire un polynome d'interpolation (degré 4)."
   ]
  },
  {
   "cell_type": "markdown",
   "metadata": {},
   "source": [
    "### Code\n",
    "\n",
    "Puisque nous avons l'intention de évaluer la fonction sur une autre discrétisation de x, il est pratique de la définir dans une fonction qui a pour entrée ce vecteur."
   ]
  },
  {
   "cell_type": "code",
   "execution_count": 17,
   "metadata": {},
   "outputs": [
    {
     "name": "stdout",
     "output_type": "stream",
     "text": [
      "[-1.  -0.5  0.   0.5  1. ]\n"
     ]
    }
   ],
   "source": [
    "def fn(vec_x):\n",
    "    return 1/(1+25*vec_x**2)\n",
    "\n",
    "n = 5 # Nombre de points utilisés pour l'interpolation\n",
    "vec_xi = np.linspace(-1,1,n)\n",
    "vec_yi = fn(vec_xi)\n",
    "\n",
    "print(vec_xi)"
   ]
  },
  {
   "cell_type": "markdown",
   "metadata": {},
   "source": [
    "Il y a plusieurs façons de créer la matrice de Vandermonde. \n",
    "\n",
    "Une première approche consiste à constuire la matrice ligne par ligne à l'aide d'une boucle `for` et de remplir cette ieme ligne par le ieme élément du vecteur x succéssivement élevé à une puissance supérieure."
   ]
  },
  {
   "cell_type": "code",
   "execution_count": 18,
   "metadata": {},
   "outputs": [
    {
     "name": "stdout",
     "output_type": "stream",
     "text": [
      "[[ 1.     -1.      1.     -1.      1.    ]\n",
      " [ 1.     -0.5     0.25   -0.125   0.0625]\n",
      " [ 1.      0.      0.      0.      0.    ]\n",
      " [ 1.      0.5     0.25    0.125   0.0625]\n",
      " [ 1.      1.      1.      1.      1.    ]]\n"
     ]
    }
   ],
   "source": [
    "# Créer une matrice de zéros de 5 lignes et 5 colonnes (car degré 4)\n",
    "mat_vdm = np.zeros((n, n))\n",
    "\n",
    "# Passer à travers les lignes de la matrice\n",
    "for i in range(n):\n",
    "    # Passer à travers les colonnes de la matrice\n",
    "    for j in range(n):\n",
    "        # La valeur à la ieme colonne correspond a la valeur élevée à la ieme puissance\n",
    "        mat_vdm[i,j] = vec_xi[i] ** j\n",
    "\n",
    "print(mat_vdm)\n",
    "    "
   ]
  },
  {
   "cell_type": "markdown",
   "metadata": {},
   "source": [
    "Cette approche, tout étant fonctionnelle, ne prend pas avantage des capacités de vectorisation de Numpy. On remarque que la ieme colonne de la matrice de Vandermonde n'est qu'en fait le vecteur des points d'interpolation élevés à la ieme puissance. "
   ]
  },
  {
   "cell_type": "code",
   "execution_count": 19,
   "metadata": {},
   "outputs": [
    {
     "name": "stdout",
     "output_type": "stream",
     "text": [
      "[[ 1.     -1.      1.     -1.      1.    ]\n",
      " [ 1.     -0.5     0.25   -0.125   0.0625]\n",
      " [ 1.      0.      0.      0.      0.    ]\n",
      " [ 1.      0.5     0.25    0.125   0.0625]\n",
      " [ 1.      1.      1.      1.      1.    ]]\n"
     ]
    }
   ],
   "source": [
    "# Passer à travers les colonnes de la matrice\n",
    "for i in range(n):\n",
    "    mat_vdm[:,i] = vec_xi**i # Remplire la ième colonne de la matrice par les éléments de vec_x^i\n",
    "\n",
    "print(mat_vdm)"
   ]
  },
  {
   "cell_type": "markdown",
   "metadata": {},
   "source": [
    "Cela a pour double bénéfice d'être plus efficace et plus lisible. \n",
    "\n",
    "Enfin, le système est résolu pour trouver les coefficients du polynome et ce dernier est évalué sur une discrétisation plus fine de x."
   ]
  },
  {
   "cell_type": "code",
   "execution_count": 20,
   "metadata": {},
   "outputs": [
    {
     "name": "stdout",
     "output_type": "stream",
     "text": [
      "[ 1.00000000e+00 -2.22400446e-20 -4.27718833e+00  8.89601783e-19\n",
      "  3.31564987e+00]\n"
     ]
    },
    {
     "data": {
      "image/png": "[encoded data removed]",
      "text/plain": [
       "<Figure size 432x288 with 1 Axes>"
      ]
     },
     "metadata": {
      "needs_background": "light"
     },
     "output_type": "display_data"
    }
   ],
   "source": [
    "vec_a = np.linalg.inv(mat_vdm) @ vec_yi # Résolution du système\n",
    "print(vec_a)\n",
    "\n",
    "vec_x = np.linspace(-1,1,100) # Discrétisation plus fine de x\n",
    "vec_y_analytique = fn(vec_x) # Évaluation de la fonction analytique\n",
    "\n",
    "# L'évaluation du polynome interpolateur est faite par la somme des coefficients multipliés par la puissance de x\n",
    "# À chaque itération de la boucle, on ajoute la valeur d'un terme évalué sur le vecteur x. \n",
    "vec_y_interp = np.zeros(100)\n",
    "for i in range(n):\n",
    "    vec_y_interp += vec_a[i]*vec_x**i\n",
    "\n",
    "# Affichage graphique (vu en détail dans le thème 2)\n",
    "plt.plot(vec_x, vec_y_analytique, label='Analytique')\n",
    "plt.plot(vec_x, vec_y_interp, label='Interpolée')\n",
    "plt.legend()\n",
    "plt.show()"
   ]
  },
  {
   "cell_type": "markdown",
   "metadata": {},
   "source": [
    "### Astuces\n",
    "\n",
    "- Pour du déboguage, l'utilisation de  `print(A.shape)` affiche la taille de la matrice `A` ce qui peut être utile pour déterminer si une matrice est mal formée.\n",
    "- Observer la forme des matrices pour voir si elles peuvent être construites directement par un vecteur plutot que par éléments."
   ]
  },
  {
   "cell_type": "markdown",
   "metadata": {},
   "source": [
    "<center><h2 id='ex4'> Exemple 4 - Floutage 2D </h2></center>\n",
    "\n",
    "### Contexte\n",
    "\n",
    "L'operation de floutage 2D est une opération très utile dans une variété de domaines et agit comme un filtre passe-bas pour réduire le bruit d'une image ou de données expérimentales. Cet exemple porte sur le floutage d'une image grayscale afin de faciliter la compréhension de l'algorithme. \n",
    "\n",
    "L'algorithme consiste à remplacer la valeur de chaque pixel de l'image par une nouvelle valeur calculée en faisant une somme pondérée des ses pixels voisins. Les coefficients de cette somme pondérée sont spécifiés dans une matrice de convolution. \n",
    "<center>\n",
    "  <img src=\"assets\\blur_kernel_2.png\" />\n",
    "</center>\n",
    "\n",
    "La matrice de convolution que l'on va utiliser est une matrice de convolution gaussienne 3x3. La nouvelle valeur du pixel est la somme de son ancienne valeur multipliée par $\\frac{1}{4}$, des 4 pixels voisins par $\\frac{1}{8}$ et des 4 pixels diagonaux par $\\frac{1}{16}$.\n",
    "\n",
    "Pour des raisons de complexité, plutot que d'effectuer une convolution, l'opération sera réduite à la multiplication entre une grande matrice des coefficients de Gauss $A$ et un vecteur de tous les pixels de l'image $\\vec{p}$, effectivement réduisant le problème à 1D. Avant de faire cela, il faut que l'on passe d'une matrice de pixels à un vecteur et comprendre la numérotation qui en découle.\n",
    "\n",
    "<center>\n",
    "  <img width=300px src=\"assets\\ex3_0.svg\">\n",
    "</center>\n",
    "\n",
    "En prenant $n_{x}$ comme le nombre de pixels sur x de l'image (ici 4), la fonction $C(x,y)$ pour trouver les coordonnées 1D à partir des coordonnées 2D est: $C(x,y) = x + n_{x}*y$. Donc par exemple la coordonnée 1D du pixel `[1,1]` correspond à $C(1,1) = 1+4*1 = 5$. Grace à cette équation on peut trouver à quel point en 1D correspond chaque coefficient de la matrice gaussienne.\n",
    "\n",
    "<center>\n",
    "  <img width=300px src=\"assets\\ex3_2.svg\" />\n",
    "</center>\n",
    "\n",
    "Donc pour flouter un pixel, sa nouvelle valeur devient:\n",
    "\n",
    "$$\n",
    "\\begin{aligned}\n",
    "2D &: p(x,y) = \\frac{1}{16} \\left[ 4p(x,y)+2(p(x+1,y) + p(x-1,y) + p(x,y-1) + p(x,y+1)) + p(x-1,y+1) + p(x+1,y+1) + p(x-1,y-1) + p(x+1,y-1) \\right] \\\\\n",
    "1D &: p(i) = \\frac{1}{16} \\left[ 4p(i)+2(p(i+1) + p(i-1) + p(i+n_{x}) + p(i-n_{x})) + p(i+n_{x}-1) + p(i+n_{x}-1) + p(i-n_{x}-1) + p(i-n_{x}+1) \\right]\n",
    "\\end{aligned}\n",
    "$$\n",
    "\n",
    "Les pixels qui forment le contour de l'image ne subissent pas d'altération, le coefficient est donc de 1 sur la diagonale pour les lignes qui correspondent à ces pixels. La matrice creuse $A$ est donc:\n",
    "\n",
    "<center>\n",
    "  <img width=500px src=\"assets\\ex3_1.svg\" />\n",
    "</center>\n",
    "\n",
    "### Objectif\n",
    "\n",
    "Écrire une fonction qui permet de constuire la matrice $A$ selon les coefficients de Gauss et flouter une image. \n",
    "\n"
   ]
  },
  {
   "cell_type": "markdown",
   "metadata": {},
   "source": [
    "### Code\n",
    "\n",
    "La première étape est de trouver les indices des pixels qui ne sont pas sur la bordure de l'image. La solution ici fait appel à `np.reshape()` qui permet de changer la forme de ton vecteur ou matrice tant que le nombre d'élément total ne change pas. Par exemple, un vecteur `vec` de longueur 4, peut être transformé en une matrice 2x2 avec `np.reshape(vec,(2,2))` ou plus simplement `vec.reshape((2,2))`: les deux premiers éléments du vecteurs vont former la premiere ligne et les deux derniers la deuxième ligne. \n",
    "\n",
    "`ndarray.flatten()` ramène un array de dimensions multiple à un vecteur 1D. "
   ]
  },
  {
   "cell_type": "code",
   "execution_count": 24,
   "metadata": {},
   "outputs": [
    {
     "name": "stdout",
     "output_type": "stream",
     "text": [
      "[[ 0  1  2  3]\n",
      " [ 4  5  6  7]\n",
      " [ 8  9 10 11]]\n",
      "[5 6]\n"
     ]
    }
   ],
   "source": [
    "mat_img = np.array([[20,20,80,140],[110,150,200,50],[60,130,70,50]]) #image de l'énoncé\n",
    "\n",
    "# L'objectif est d'avoir la numérotation 1D avec la même forme que l'image\n",
    "mat_idx = np.arange(0,mat_img.size).reshape(mat_img.shape) # Création d'un vecteur d'éléments de 0 à mat_img.size-1\n",
    "print(mat_idx)\n",
    "\n",
    "# On sélectionne tous les éléments à l'exception des bords et on ramène ça à un vecteur 1D avec .flatten()\n",
    "vec_idx_center = mat_idx[1:-1,1:-1].flatten() \n",
    "print(vec_idx_center)"
   ]
  },
  {
   "cell_type": "markdown",
   "metadata": {},
   "source": [
    "On remarque que la diagonale de la matrice A n'est jamais nulle, alors plutot qu'initialiser la matrice avec `np.zeros` on peut utiliser `np.eye` ce qui créé une matrice avec une diagonale de 1.\n",
    "Il ne reste qu'à remplir les lignes qui correspondent aux pixels qui ne sont pas au centre avec les coefficients de gauss. "
   ]
  },
  {
   "cell_type": "code",
   "execution_count": 31,
   "metadata": {},
   "outputs": [
    {
     "name": "stdout",
     "output_type": "stream",
     "text": [
      "[[16  0  0  0  0  0  0  0  0  0  0  0]\n",
      " [ 0 16  0  0  0  0  0  0  0  0  0  0]\n",
      " [ 0  0 16  0  0  0  0  0  0  0  0  0]\n",
      " [ 0  0  0 16  0  0  0  0  0  0  0  0]\n",
      " [ 0  0  0  0 16  0  0  0  0  0  0  0]\n",
      " [ 0  1  2  1  2  4  2  1  2  1  0  0]\n",
      " [ 0  0  1  2  1  2  4  2  1  2  1  0]\n",
      " [ 0  0  0  0  0  0  0 16  0  0  0  0]\n",
      " [ 0  0  0  0  0  0  0  0 16  0  0  0]\n",
      " [ 0  0  0  0  0  0  0  0  0 16  0  0]\n",
      " [ 0  0  0  0  0  0  0  0  0  0 16  0]\n",
      " [ 0  0  0  0  0  0  0  0  0  0  0 16]]\n"
     ]
    }
   ],
   "source": [
    "A = 16 * np.eye(mat_img.size, mat_img.size, dtype=np.uint8) #Creation de la matrice A avec des 16 sur la diagonale\n",
    "nx = mat_img.shape[0] # nx correspond au nombre de pixels sur x\n",
    "\n",
    "# Ces deux vecteurs vont contenir les indices des pixels voisins et diagonaux (4 de chaque)\n",
    "# Numpy permet de indexer un vecteur avec un autre vecteur ce qui permet de changer les valeur du coefficient de ces pixels\n",
    "vec_idx_voisins = np.zeros(4, dtype=np.uint16)\n",
    "vec_idx_diag = np.zeros(4, dtype=np.uint16)\n",
    "\n",
    "# Passer à travers chaque ligne des pixels qui ne sont pas sur le bord\n",
    "for i in vec_idx_center:\n",
    "    A[i,i] = 4 # Coefficient du pixel même est 4\n",
    "    vec_idx_voisins[:] = [i+1, i-1, i+nx, i-nx] # Calcul des indices des 4 voisins\n",
    "    vec_idx_diag[:] = [i-1+nx, i+1+nx, i+1-nx, i-1-nx] # Calcul des indices des 4 voisins diagonaux\n",
    "    A[i,vec_idx_voisins] = 2 # Coefficient des voisins est 2\n",
    "    A[i,vec_idx_diag] = 1  # Coefficient des voisins diagonaux est 1\n",
    "\n",
    "print(A)\n"
   ]
  },
  {
   "cell_type": "markdown",
   "metadata": {},
   "source": [
    "La matrice A étant constuite, il ne reste qu'à la multiplier avec le vecteur des pixel originaux pour obtenir l'image floutée. On regroupe d'abord l'ensemble du code dans une fonction:"
   ]
  },
  {
   "cell_type": "code",
   "execution_count": 37,
   "metadata": {},
   "outputs": [],
   "source": [
    "def blur_img(mat_img):\n",
    "    mat_idx = np.arange(0,mat_img.size).reshape(mat_img.shape)\n",
    "    vec_idx_center = mat_idx[1:-1,1:-1].flatten()\n",
    "    A = 16 * np.eye(mat_img.size, mat_img.size, dtype=np.uint8)\n",
    "    nx = mat_img.shape[0]\n",
    "\n",
    "    vec_idx_voisins = np.zeros(4, dtype=np.uint16)\n",
    "    vec_idx_diag = np.zeros(4, dtype=np.uint16)\n",
    "    for i in vec_idx_center:\n",
    "        A[i,i] = 4\n",
    "        vec_idx_voisins[:] = [i+1, i-1, i+nx, i-nx]\n",
    "        vec_idx_diag[:] = [i-1+nx, i+1+nx, i+1-nx, i-1-nx]\n",
    "        A[i,vec_idx_voisins] = 2\n",
    "        A[i,vec_idx_diag] = 1\n",
    "    \n",
    "    return (A @ mat_img.flatten()).reshape(mat_img.shape)\n",
    "    "
   ]
  },
  {
   "cell_type": "markdown",
   "metadata": {},
   "source": [
    "On peut maintenant tester la fonction sur une vraie image."
   ]
  },
  {
   "cell_type": "code",
   "execution_count": 39,
   "metadata": {},
   "outputs": [
    {
     "data": {
      "image/png": "[encoded data removed]",
      "text/plain": [
       "<Figure size 432x288 with 2 Axes>"
      ]
     },
     "metadata": {
      "needs_background": "light"
     },
     "output_type": "display_data"
    }
   ],
   "source": [
    "mat_img = plt.imread('assets/lenna_200.png')[:, :, 0]\n",
    "mat_img_blurred = blur_img(mat_img)\n",
    "\n",
    "f, ax = plt.subplots(1,2) \n",
    "\n",
    "ax[0].imshow(mat_img, cmap='gray')\n",
    "ax[1].imshow(mat_img_blurred, cmap='gray')\n",
    "plt.show()"
   ]
  }
 ],
 "metadata": {
  "interpreter": {
   "hash": "25034407fed5d681614dac11a1c0537e8cb49e3a8883c071303eea01322943d9"
  },
  "kernelspec": {
   "display_name": "Python 3.9.0 64-bit",
   "language": "python",
   "name": "python3"
  },
  "language_info": {
   "codemirror_mode": {
    "name": "ipython",
    "version": 3
   },
   "file_extension": ".py",
   "mimetype": "text/x-python",
   "name": "python",
   "nbconvert_exporter": "python",
   "pygments_lexer": "ipython3",
   "version": "3.9.0"
  },
  "orig_nbformat": 4
 },
 "nbformat": 4,
 "nbformat_minor": 2
}
