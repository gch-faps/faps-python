{
 "cells": [
  {
   "cell_type": "markdown",
   "metadata": {},
   "source": [
    "# THEME 2 - Calculs avec Numpy\n",
    "\n",
    "## Objectif\n",
    "\n",
    "- Effectuer des calculs vectoriels et matriciels avec le module Numpy\n",
    "- Utiliser diverses fonctions disponibles pour résoudre des problèmes en GCH\n",
    "\n",
    "## Référence\n",
    "\n",
    "- [Documentation Numpy](https://numpy.org/doc/stable/reference/)\n",
    "\n",
    "---"
   ]
  },
  {
   "cell_type": "markdown",
   "metadata": {},
   "source": [
    "## Exemple 1\n",
    "\n",
    "### Contexte\n",
    "\n",
    "lorem ipsum\n",
    "\n",
    "- montrer manipulation de vecteurs\n",
    "- indexations (avec tranches) + operations vectorielles\n",
    "- masques binaires a[(a>2) & (a<5)]\n",
    "exemple itératif pr montrer comment remplacer les valeurs dans le array plutot que d'en crééer un nouveau\n",
    "\n",
    "astuces: \n",
    "éviter de créer un array à l'intérieur d'une boucle\n",
    "Consistance dans les unités"
   ]
  },
  {
   "cell_type": "code",
   "execution_count": null,
   "metadata": {
    "vscode": {
     "languageId": "plaintext"
    }
   },
   "outputs": [],
   "source": []
  },
  {
   "cell_type": "markdown",
   "metadata": {},
   "source": [
    "## Exemple 2\n",
    "\n",
    "### Contexte\n",
    "\n",
    "- montrer création de matrices\n",
    "- indexations + calculs (somme, mult, prod scal., prod vec.)\n",
    "- reshape, nonzero, where, flip, flatten \n",
    "\n",
    "astuces: \n",
    "utiliser .shape() pour troubleshoot\n",
    "prioriser les operations directement sur la matrice entière plutot que par éléments\n"
   ]
  },
  {
   "cell_type": "markdown",
   "metadata": {},
   "source": [
    "## Exemple 3\n",
    "\n",
    "### Contexte\n",
    "\n",
    "- np.solve\n",
    "- fonctions plus avancées\n",
    "- np.hstack\n",
    "- discretisation spatiale \n",
    "- exemple 2D style smith hutton\n",
    "\n",
    "astuces:\n",
    "vérifier la documentation pour les sorties, entrées des fonctions et autres paramètres utiles (ex: axis)"
   ]
  }
 ],
 "metadata": {
  "language_info": {
   "name": "python"
  },
  "orig_nbformat": 4
 },
 "nbformat": 4,
 "nbformat_minor": 2
}
