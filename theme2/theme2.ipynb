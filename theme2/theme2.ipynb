{
 "cells": [
  {
   "cell_type": "markdown",
   "metadata": {},
   "source": [
    "<center><h1> THEME 2 - Calculs avec Numpy </h1></center>\n",
    "\n",
    "## Objectif\n",
    "\n",
    "- Effectuer des calculs vectoriels et matriciels avec le module Numpy\n",
    "- Utiliser diverses fonctions disponibles pour résoudre des problèmes en GCH\n",
    "\n",
    "## Référence\n",
    "\n",
    "- [Documentation Numpy](https://numpy.org/doc/stable/reference/)\n",
    "\n",
    "---"
   ]
  },
  {
   "cell_type": "markdown",
   "metadata": {},
   "source": [
    "<center><h2> Exemple 1 - Loi d'Arrhenius </h2></center>\n",
    "\n",
    "### Contexte\n",
    "En cinétique chimique, la loi d'Arrhenius permet de décrire la variation de la vitesse d'une réaction chimique en fonction de la température en suvant la relation suivante: \n",
    "\n",
    "$$\n",
    "\\begin{aligned}\n",
    "k=A \\cdot \\mathrm{e}^{\\frac{-E_{A}}{R T}}\n",
    "\\end{aligned}\n",
    "$$\n",
    "\n",
    "- $k$, coefficient de vitesse de la réaction\n",
    "- $A$, facteur pré-exponentiel\n",
    "- $T$, température en K\n",
    "- $R$, constante des gazs parfaits\n",
    "- $E_{A}$, énergie d'activation\n"
   ]
  },
  {
   "cell_type": "markdown",
   "metadata": {},
   "source": [
    "### Code\n",
    "\n",
    "On commence par importer la librairie numpy et d'initialiser les constantes du problème"
   ]
  },
  {
   "cell_type": "code",
   "execution_count": 35,
   "metadata": {},
   "outputs": [],
   "source": [
    "import numpy as np\n",
    "import matplotlib.pyplot as plt # Sera vu plus en détail dans le thème 3\n",
    "\n",
    "A = 9.0 #(1/s)\n",
    "R = 8.314 #(kPa.L/mol.K)\n",
    "E_A = 200 #(kJ/mol)\n",
    "\n",
    "vec_T = np.array([300, 400, 500, 600, 700, 800, 900, 1000])\t# Creation manuelle du vecteur de températures"
   ]
  },
  {
   "cell_type": "markdown",
   "metadata": {},
   "source": [
    "Pour discretiser T automatiquement, on a le choix entre:\n",
    "- `np.arange(debut, fin, pas)`: génére les points si l'on veut un $\\delta T$ spécifique\n",
    "- `np.linspace(debut, fin, nb de points)`: génère le nombre de points voulus espacés linéairement\n",
    "\n",
    "Ces fonctions retournent un vecteur des valeurs. "
   ]
  },
  {
   "cell_type": "code",
   "execution_count": 38,
   "metadata": {},
   "outputs": [
    {
     "name": "stdout",
     "output_type": "stream",
     "text": [
      "130.0\n",
      "[100. 103. 106. 109. 112. 115. 118. 121. 124. 127.]\n",
      "[373. 376. 379. 382. 385. 388. 391. 394. 397. 400.]\n",
      "[385. 388. 391. 394. 397.]\n",
      "[100. 115. 130. 145.]\n"
     ]
    }
   ],
   "source": [
    "vec_T = np.linspace(100,400,101) # Discrétisation linéaire de 100 points entre 100 et 400 K\n",
    "\n",
    "print(vec_T[10]) # Affiche le 11e élément de T puisque l'indexation en python commence à 0\n",
    "print(vec_T[:10]) # Affiche les 10 premiers éléments de T\n",
    "print(vec_T[91:]) # Affiche les 10 derniers éléments de T\n",
    "print(vec_T[95:-1]) # Affiche les valeurs entre l'indice 95 et le dernier élement du vecteur tout en excluant ce dernier\n",
    "print(vec_T[0:20:5]) # Affiche les éléments de T à indices multiples de 5 entre 0 et 20"
   ]
  },
  {
   "cell_type": "markdown",
   "metadata": {},
   "source": [
    "Pour calculer les valeurs de $k$ à chacunes de ces températures, plutot que d'utiliser une boucle `for` pour passer à travers les valeurs de T, on peut tout simplement effectuer les opérations directement avec le vecteur T. \n",
    "\n",
    "- Un vecteur multiplié, divisé ou élevé à la puissance par un scalaire va effectuer l'opération sur chacun de ses éléments. \n",
    "- 2 vecteurs peuvent subir toutes les opérations mathématiques entre eux tant que leurs dimensions sont égales. "
   ]
  },
  {
   "cell_type": "code",
   "execution_count": 39,
   "metadata": {},
   "outputs": [
    {
     "data": {
      "image/png": "[encoded data removed]",
      "text/plain": [
       "<Figure size 432x288 with 1 Axes>"
      ]
     },
     "metadata": {
      "needs_background": "light"
     },
     "output_type": "display_data"
    },
    {
     "name": "stdout",
     "output_type": "stream",
     "text": [
      "101\n"
     ]
    }
   ],
   "source": [
    "vec_k = A*np.exp(-E_A/(R*vec_T)) # np.exp retourne la valeur de l'exponentielle\n",
    "\n",
    "plt.plot(vec_T, vec_k)\n",
    "plt.show()\n",
    "\n",
    "# Puisque le calcul est effectué sur 101 points, le vecteur k contient 101 éléments\n",
    "print(vec_k.size) # k.size ou len(k) retourne le nombre d'élements du vecteur\n"
   ]
  },
  {
   "cell_type": "markdown",
   "metadata": {},
   "source": [
    "Les expressions booléennes de numpy permettent d'exprimer des conditions qui vont être évaluées pour chaque élément du vecteur et retourner un `True` ou `False` pour chaque valeur. "
   ]
  },
  {
   "cell_type": "code",
   "execution_count": 33,
   "metadata": {},
   "outputs": [
    {
     "name": "stdout",
     "output_type": "stream",
     "text": [
      "[8.11355195 8.14503012 8.28827336 8.30871484 8.30871484 7.44698129\n",
      " 8.40054644 7.76512787 8.01705901 8.41981609]\n",
      "[ True  True  True  True  True False  True False  True  True]\n",
      "[False False False  True  True False  True False False  True]\n",
      "[ True  True  True False False False False False  True False]\n",
      "[8.11355195 8.14503012 8.28827336 7.44698129 7.76512787 8.01705901]\n",
      "[0 1 2 5 7 8]\n"
     ]
    }
   ],
   "source": [
    "np.random.seed(0)\n",
    "vec_k_rand = np.random.choice(vec_k,10) # Choisit 10 éléments aléatoirement du vecteur k\n",
    "\n",
    "print(vec_k_rand)\n",
    "print(vec_k_rand > 8.0) # Vecteur booléen qui retourne True pour les éléments de k supérieurs à 8.0 et vice versa\n",
    "print(~(vec_k_rand < 8.3)) # ~ inverse le booléen\n",
    "print((vec_k_rand > 8.0) & (vec_k_rand < 8.3)) # & = ET, | = OU\n",
    "print(vec_k_rand[(vec_k_rand < 8.3)]) # Retourne un vecteur des valeurs de k inférieures à 8.3\n",
    "print((vec_k_rand < 8.3).nonzero()[0]) # Retourne un vecteur des indices des valeurs de k inférieures à 8.3\n",
    "\n"
   ]
  },
  {
   "cell_type": "markdown",
   "metadata": {},
   "source": [
    "### Astuces\n",
    "- Quand on utilise des vecteurs, il est important de faire attention que les unités sont consistantes, c'est à dire éviter de multiplier un vecteur d'entiers par un vecteur de décimaux.\n",
    "- Il est courant d'avoir l'erreur: `IndexError` au début, cela veut très souvent dire que le vecteur a été indexé avec une valeur plus grande que sa taille. \n",
    "\n",
    "---"
   ]
  },
  {
   "cell_type": "markdown",
   "metadata": {},
   "source": [
    "<center><h2> Exemple 2 - Interpolation Polynomiale</h2></center>\n",
    "\n",
    "### Contexte\n",
    "Lorsque l'on va au laboratoire pour déterminer les propriétés d’un matériau ou la vitesse d’une réaction, nous nous retrouvons avec des données discrètes, c’est à dire des couples de point $xi$ auquel nous associons une mesure (que nous appellerons fonction) $f(xi)$. Le but de l’interpolation sera de trouver un moyen d’évaluer $f(x)$ pour $x \\neq xi$. \n",
    "\n",
    "L'une de ces méthodes d'interpolation est l'interpolation polynomiale, qui consiste à construire un polynome de degré $n$ si l'on a $n-1$ points de référence. \n",
    "\n",
    "$$\n",
    "\\begin{aligned}\n",
    "p_{n}(x)=a_{0}+a_{1} x+a_{2} x^{2}+a_{3} x^{3}+\\ldots+a_{n} x^{n}\n",
    "\\end{aligned}\n",
    "$$\n",
    "\n",
    "On trouve les coefficients $a_{n}$ en résolvant le système $Aa = f$ où $A$ est la matrice de Vandermonde:\n",
    "\n",
    "$$\n",
    "\\begin{align*}\n",
    "\\left[\\begin{array}{ccccc}\n",
    "1 & x_{0} & x_{0}^{2} & \\cdots & x_{0}^{n} \\\\\n",
    "1 & x_{1} & x_{1}^{2} & \\cdots & x_{1}^{n} \\\\\n",
    "1 & x_{2} & x_{2}^{2} & \\cdots & \\vdots \\\\\n",
    "\\vdots & \\vdots & \\vdots & \\ddots & \\vdots \\\\\n",
    "1 & x_{n} & x_{n}^{2} & \\cdots & x_{n}^{n}\n",
    "\\end{array}\\right]\\left[\\begin{array}{c}\n",
    "a_{0} \\\\\n",
    "a_{1} \\\\\n",
    "a_{2} \\\\\n",
    "\\vdots \\\\\n",
    "a_{n}\n",
    "\\end{array}\\right]=\\left[\\begin{array}{c}\n",
    "f\\left(x_{0}\\right) \\\\\n",
    "f\\left(x_{1}\\right) \\\\\n",
    "f\\left(x_{2}\\right) \\\\\n",
    "\\vdots \\\\\n",
    "f\\left(x_{n}\\right)\n",
    "\\end{array}\\right]\n",
    "\\end{align*}\n",
    "$$"
   ]
  },
  {
   "cell_type": "markdown",
   "metadata": {},
   "source": [
    "### Code\n",
    "\n",
    "Dans Numpy, les matrices sont représentées par un vecteur qui contient plusieurs vecteurs qui font office de lignes, autrement dit, un vecteur 2D. L'indexation des matrices dans Numpy est basée sur les lignes, cela veut dire que l'indexation se fait par `[ligne, colonne]`. Sinon, l'indexation fonctionne de la même façon que les vecteurs.  "
   ]
  },
  {
   "cell_type": "code",
   "execution_count": 41,
   "metadata": {},
   "outputs": [
    {
     "name": "stdout",
     "output_type": "stream",
     "text": [
      "[[1 2 3]\n",
      " [4 5 6]\n",
      " [7 8 9]]\n",
      "5\n",
      "[5 8]\n",
      "[7 8 9]\n"
     ]
    }
   ],
   "source": [
    "mat_A = np.array([[1,2,3],[4,5,6],[7,8,9]])\n",
    "print(mat_A)\n",
    "print(mat_A[1,1]) # Affiche la valeur de la 2ème ligne et de la 2ème colonne\n",
    "print(mat_A[1:,1]) # Affiche la 2ème colonne à partir de la 2ème ligne\n",
    "print(mat_A[2,:]) # Affiche la 3ème ligne"
   ]
  },
  {
   "cell_type": "markdown",
   "metadata": {},
   "source": [
    "Pour cet exemple, la fonction $\\frac{1}{1+25x^2}$ sera interpolée à partir de 5 points, cela veut dire que le polynome d'interpolation sera de degré 4."
   ]
  },
  {
   "cell_type": "code",
   "execution_count": 52,
   "metadata": {},
   "outputs": [
    {
     "name": "stdout",
     "output_type": "stream",
     "text": [
      "[-1.  -0.5  0.   0.5  1. ]\n"
     ]
    }
   ],
   "source": [
    "def fn(vec):\n",
    "    return 1/(1+25*vec**2)\n",
    "\n",
    "vec_xi = np.linspace(-1,1,5)\n",
    "vec_yi = fn(vec_xi)\n",
    "\n",
    "print(vec_xi)"
   ]
  },
  {
   "cell_type": "markdown",
   "metadata": {},
   "source": [
    "Il y a plusieurs façons de créer la matrice de Vandermonde. La démarche montrée ci-dessous est la solution la plus simple. "
   ]
  },
  {
   "cell_type": "code",
   "execution_count": 50,
   "metadata": {},
   "outputs": [
    {
     "name": "stdout",
     "output_type": "stream",
     "text": [
      "[[ 1.     -1.      1.     -1.      1.    ]\n",
      " [ 1.     -0.5     0.25   -0.125   0.0625]\n",
      " [ 1.      0.      0.      0.      0.    ]\n",
      " [ 1.      0.5     0.25    0.125   0.0625]\n",
      " [ 1.      1.      1.      1.      1.    ]]\n"
     ]
    }
   ],
   "source": [
    "mat_vdm = np.zeros((vec_xi.size, vec_xi.size)) # Créer une matrice de zéros de 5 lignes et 5 colonnes\n",
    "for i in range(vec_xi.size):\n",
    "    mat_vdm[:,i] = vec_xi**i # Remplire la ième colonne de la matrice par les éléments de vec_x^i\n",
    "\n",
    "print(mat_vdm)"
   ]
  },
  {
   "cell_type": "markdown",
   "metadata": {},
   "source": [
    "Pour toute opération d'algèbre linéaire, le sous module `np.linalg` contient plein de fonctions utiles. L'opérateur `@` est utilisé pour la multiplication matricielle. "
   ]
  },
  {
   "cell_type": "code",
   "execution_count": 53,
   "metadata": {},
   "outputs": [
    {
     "name": "stdout",
     "output_type": "stream",
     "text": [
      "[ 1.00000000e+00 -2.22400446e-20 -4.27718833e+00  8.89601783e-19\n",
      "  3.31564987e+00]\n"
     ]
    },
    {
     "data": {
      "image/png": "[encoded data removed]",
      "text/plain": [
       "<Figure size 432x288 with 1 Axes>"
      ]
     },
     "metadata": {
      "needs_background": "light"
     },
     "output_type": "display_data"
    }
   ],
   "source": [
    "vec_a = np.linalg.inv(mat_vdm) @ vec_yi # Calculer le vecteur des coefficients a\n",
    "print(vec_a)\n",
    "\n",
    "vec_x = np.linspace(-1,1,100)\n",
    "vec_y_analytique = fn(vec_x)\n",
    "vec_y_interp = np.zeros(100)\n",
    "for i in range(vec_a.size):\n",
    "    vec_y_interp += vec_a[i]*vec_x**i\n",
    "\n",
    "plt.plot(vec_x, vec_y_analytique, label='Analytique')\n",
    "plt.plot(vec_x, vec_y_interp, label='Interpolée')\n",
    "plt.legend()\n",
    "plt.show()"
   ]
  },
  {
   "cell_type": "markdown",
   "metadata": {},
   "source": [
    "### Astuces\n",
    "\n",
    "\n",
    "- Utiliser .shape() pour troubleshoot\n",
    "- prioriser les operations directement sur la matrice entière plutot que par éléments"
   ]
  },
  {
   "cell_type": "markdown",
   "metadata": {},
   "source": [
    "<center><h2> Exemple 3 - Smith Hutton </h2></center>\n",
    "\n",
    "### Contexte\n",
    "\n",
    "- np.solve\n",
    "- fonctions plus avancées\n",
    "- np.hstack\n",
    "- discretisation spatiale \n",
    "- exemple 2D style smith hutton\n",
    "\n",
    "astuces:\n",
    "vérifier la documentation pour les sorties, entrées des fonctions et autres paramètres utiles (ex: axis)"
   ]
  }
 ],
 "metadata": {
  "interpreter": {
   "hash": "25034407fed5d681614dac11a1c0537e8cb49e3a8883c071303eea01322943d9"
  },
  "kernelspec": {
   "display_name": "Python 3.9.0 64-bit",
   "language": "python",
   "name": "python3"
  },
  "language_info": {
   "codemirror_mode": {
    "name": "ipython",
    "version": 3
   },
   "file_extension": ".py",
   "mimetype": "text/x-python",
   "name": "python",
   "nbconvert_exporter": "python",
   "pygments_lexer": "ipython3",
   "version": "3.9.0"
  },
  "orig_nbformat": 4
 },
 "nbformat": 4,
 "nbformat_minor": 2
}
