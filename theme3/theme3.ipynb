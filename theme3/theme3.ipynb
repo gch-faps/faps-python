{
 "cells": [
  {
   "cell_type": "markdown",
   "metadata": {},
   "source": [
    "## visualisation:\n",
    "\n",
    "ex1:\n",
    "- plotting de plusieurs courbes de base\n",
    "- légende, grille, titres, axes\n",
    "- utilisation de couleurs, marqueurs\n",
    "\n",
    "ex2: \n",
    "- graphique à barres (hist)\n",
    "- pie chart\n",
    "\n",
    "ex3: \n",
    "- subplots\n",
    "- mélange de types de graphiques, ex: scatter + courbe\n",
    "- statistiques ?\n",
    "\n",
    "ex4: \n",
    "- colormap (2D)\n",
    "\n",
    "ex5: \n",
    "- 3D\n",
    "\n",
    "animation ?\n",
    "gui ? (PyQt)"
   ]
  }
 ],
 "metadata": {
  "language_info": {
   "name": "python"
  }
 },
 "nbformat": 4,
 "nbformat_minor": 2
}
