{
 "cells": [
  {
   "cell_type": "markdown",
   "metadata": {},
   "source": [
    "# <h1 align=\"center\"> THEME 4 - Données tabulaires </h1>\n",
    "\n",
    "### 🎯 Objectifs\n",
    "\n",
    "- Manipuler des données tabulaires\n",
    "- Effectuer de l'analyse statistique\n",
    "\n",
    "### 📚 Notions \n",
    "\n",
    "- [Exemple 1](#ex1):\n",
    "    - Créer un Dataframe à partir d'un dictionnaire\n",
    "    - Indexer des données\n",
    "    - Filtrer les données par masque binaire\n",
    "    - Trier des colonnes numériques\n",
    "- [Exemple 2](#ex2):\n",
    "- [Exemple 3](#ex3):\n",
    "- [Exemple 4](#ex4):\n",
    "\n",
    "Un [lexique](#lexique) avec l'ensemble des fonctions qui ont été vues est disponible à la fin du notebook.\n",
    "\n",
    "### 🧰 Librairies\n",
    "\n",
    "- **Pandas**: est une librairie libre-source Python largement utilisée dans la science des données, l'analyse des données et l'apprentissage machine. Il est construit au-dessus de la librairie Numpy ce qui lui offre une interface similaire et permet l'interopérabilité avec des fonctions numpy.\n",
    "\n",
    "### 🔗 Référence\n",
    "\n",
    "- [Documentation Polars](https://pola-rs.github.io/polars/py-polars/html/reference/)\n",
    "\n",
    "### ⚙️ Installation\n",
    "\n",
    "`pip install pandas`"
   ]
  },
  {
   "cell_type": "markdown",
   "metadata": {},
   "source": [
    "## <a name=\"ex1\"><h2 align=\"center\"> Exemple 1 - Fleurs Iris </h2></a>\n",
    "\n",
    "### 📝 Contexte\n",
    "\n",
    "L'Iris est un genre de plantes vivaces de la famille des Iridacées. Il existe une large variété d'espèces que l'on retrouve au Québec. L'Iris Versicolor est d'ailleur l'un des emblèmes officiels du Quebec et se trouve le drapeau.\n",
    "\n",
    "<center> <img width=400px src=\"assets/iris.jpg\" /> </center>\n",
    "\n",
    "\n",
    "La fleur peut être violette, bleue ou pourpre et plus rarement blanche. Elle est constituée de trois pétales minces et relevés disposés à l'intérieur de la fleur et de trois sépales plus longs et plus larges en forme de spatule et situés à l'extérieur. \n",
    "\n",
    "### ⭐ Objectif\n",
    "\n",
    "- Créer un jeu de données à partir d'un dictionnaire Python contenant les données de fleurs d'iris.\n",
    "- Indexer et filtrer les données."
   ]
  },
  {
   "cell_type": "markdown",
   "metadata": {},
   "source": [
    "### 💻 Code\n",
    "\n",
    "Un `DataFrame` est une structure de données tabulaires qui permet de stocker et manipuler des données de façon intuitive. Les données tabulaires sont organisées sous forme de lignes avec des colonnes communes. \n",
    "\n",
    "La façon la plus simple de créer un `DataFrame` est de partir d'un objet Python. La nature de cet objet change en fonction du format des données:\n",
    "\n",
    "- Données colonnes: L'objet est un dictionnaire où les clés sont les noms des colonnes, et où les valeurs sont des listes de même taille qui vont constituer les colonnes. C'est le format qui sera utilisé dans cet exemple.\n",
    "- Données lignes: L'objet est une liste de dictionnaires, où chaque dictionnaire ont les mêmes clés et possède une seule valeur par clé.\n",
    "\n",
    "Ces deux formats sont interchangeables en fonction de l'application et ont chacun des forces et faiblesses. "
   ]
  },
  {
   "cell_type": "code",
   "execution_count": null,
   "metadata": {},
   "outputs": [],
   "source": [
    "import pandas as pd\n",
    "import numpy as np\n",
    "\n",
    "# Création d'un DataFrame (df) à partir d'un dict\n",
    "df = pd.DataFrame(\n",
    "    {\n",
    "        \"Date\": pd.to_datetime(\"2022-06-15\"),  # Conversion d'un texte en date\n",
    "        \"Location\": \"Quebec\",  # Colonne location avec une valeur qui sera repétée\n",
    "        \"Espèce\": [\"Versicolor\", \"Versicolor\", \"Setosa\", \"Setosa\", \"Virginica\"],  # Liste python de mots\n",
    "        \"Petale_long\": [5.1, 4.7, 1.5, 1.6, 5.5],  # Liste python de nombres\n",
    "        \"Petale_larg\": np.array([1.2, 1.2, 0.2, 0.3, 2.1]),  # Numpy array\n",
    "    }\n",
    ")\n",
    "\n",
    "# Afficher le df\n",
    "df"
   ]
  },
  {
   "cell_type": "markdown",
   "metadata": {},
   "source": [
    "Une fois le `DataFrame` créé, il est possible d'obtenir des informations sur ses colonnes."
   ]
  },
  {
   "cell_type": "code",
   "execution_count": null,
   "metadata": {},
   "outputs": [],
   "source": [
    "print(df.shape)  # Forme du df (lignes, colonnes)\n",
    "print(df.columns)  # Liste des colonnes du df\n",
    "print(df.dtypes[\"Petale_long\"])  # Type de données d'une colonne"
   ]
  },
  {
   "cell_type": "markdown",
   "metadata": {},
   "source": [
    "L'indexation des données dans pandas est assez délicate puisqu'il existe 3 forme d'indexation:\n",
    "\n",
    "- Directe des colonnes: `df[<nom_colonne>]`. Utile pour selectionner **une seule** colonne et pour de la filtration. "
   ]
  },
  {
   "cell_type": "code",
   "execution_count": null,
   "metadata": {},
   "outputs": [],
   "source": [
    "df[\"Espèce\"]  # Selectionner une colonne"
   ]
  },
  {
   "cell_type": "markdown",
   "metadata": {},
   "source": [
    "- Avec `df.loc[<no_ligne>, <nom_colonne>]`. Utile pour selectionner **plusieurs** colonnes et lignes en même temps."
   ]
  },
  {
   "cell_type": "code",
   "execution_count": null,
   "metadata": {},
   "outputs": [],
   "source": [
    "df.loc[0, \"Espèce\"]  # Selectionner la première ligne de la colonne \"Espèce\""
   ]
  },
  {
   "cell_type": "code",
   "execution_count": null,
   "metadata": {},
   "outputs": [],
   "source": [
    "df.loc[:, [\"Petale_long\", \"Petale_larg\"]]  # Selectionner toutes les lignes des colonnes \"Petale_long\" et \"Petale_larg\""
   ]
  },
  {
   "cell_type": "markdown",
   "metadata": {},
   "source": [
    "- Avec `df.iloc[<no_ligne>, <no_colonne>]`. Similaire à `.loc` mais utilise **uniquement** des indices numériques. Cette méthode est similaire à l'indexation d'une matrice dans Numpy."
   ]
  },
  {
   "cell_type": "code",
   "execution_count": null,
   "metadata": {},
   "outputs": [],
   "source": [
    "df.iloc[0, -1]  # Selectionner la première ligne de la dernière colonne"
   ]
  },
  {
   "cell_type": "code",
   "execution_count": null,
   "metadata": {},
   "outputs": [],
   "source": [
    "df.iloc[:3, -2:]  # Selectionner les 3 premières lignes des 2 dernières colonnes"
   ]
  },
  {
   "cell_type": "markdown",
   "metadata": {},
   "source": [
    "On utilise un `DataFrame` généralement lorsque l'on veut analyser un sous-ensemble de données avec une caractéristique particulière. Cette caractéristique peut être isolée en filtrant les données. L'une des méthodes est l'utilisation de masques binaires, similaires à ceux employés avec les Numpy arrays."
   ]
  },
  {
   "cell_type": "code",
   "execution_count": null,
   "metadata": {},
   "outputs": [],
   "source": [
    "df[df[\"Espèce\"] == \"Setosa\"]  # Selectionner les iris de type \"Setosa\""
   ]
  },
  {
   "cell_type": "code",
   "execution_count": null,
   "metadata": {},
   "outputs": [],
   "source": [
    "# Prendre les iris avec une largeur de petale supérieure à 1 et une longueur de petale inférieure à 5.2, et selectionner\n",
    "# uniquement les colonnes  Espèce, Petale_long et Petale_larg\n",
    "# Attention: ne pas oublier les parentheses entre chaque masque binaire\n",
    "df[(df[\"Petale_larg\"] > 1) & (df[\"Petale_long\"] < 5.2)].loc[:, [\"Espèce\", \"Petale_long\", \"Petale_larg\"]]"
   ]
  },
  {
   "cell_type": "markdown",
   "metadata": {},
   "source": [
    "On utilise `.isin` pour isoler les lignes d'une colonne qui contient l'une des valeurs possibles d'une liste."
   ]
  },
  {
   "cell_type": "code",
   "execution_count": null,
   "metadata": {},
   "outputs": [],
   "source": [
    "df[df[\"Espèce\"].isin([\"Setosa\", \"Virginica\"])]  # Selectionner les iris de type \"Setosa\" ou \"Versicolor\""
   ]
  },
  {
   "cell_type": "markdown",
   "metadata": {},
   "source": [
    "On peut aussi trier les données avec une ou plusieurs colonnes."
   ]
  },
  {
   "cell_type": "code",
   "execution_count": null,
   "metadata": {},
   "outputs": [],
   "source": [
    "# Trier le tableau par les valeurs de la colonne \"Petale_long\" en ordre decroissant\n",
    "df.sort_values(by=\"Petale_long\", ascending=False)"
   ]
  },
  {
   "cell_type": "code",
   "execution_count": null,
   "metadata": {},
   "outputs": [],
   "source": [
    "# Trier le tableau par les valeurs des colonnes \"Petale_long\" et \"Petale_larg\" en ordre croissant\n",
    "df.sort_values(by=[\"Petale_long\", \"Petale_larg\"])"
   ]
  },
  {
   "cell_type": "markdown",
   "metadata": {},
   "source": [
    "Une fois que les opérations sont complétés sur le `DataFrame`, il est simple de le convertir en dictionnaire avec la méthode `to_dict()` pour l'exporter par exemple. "
   ]
  },
  {
   "cell_type": "code",
   "execution_count": null,
   "metadata": {},
   "outputs": [],
   "source": [
    "# Selectionner les fleurs de type \"Setosa\" et \"Versicolor\" et les trier par ordre croissant de largeur de pétale\n",
    "new_df = df[df[\"Espèce\"].isin([\"Setosa\", \"Versicolor\"])].sort_values(by=\"Petale_larg\")\n",
    "df_dict = new_df.to_dict(\"list\")  # \"List\" pour format colonne et \"records\" pour format ligne\n",
    "print(df_dict)"
   ]
  },
  {
   "cell_type": "markdown",
   "metadata": {},
   "source": [
    "## <h2 align=\"center\" id='ex1'> Exemple 2 - Transestérification du canola en biodiesel</h2>\n",
    "\n",
    "### 📝 Contexte\n",
    "La transestérification est une méthode de production de biodiesel à partir de la réaction entre une huile végétale et de l'alcool. Dans cet exemple, l'huile végétale utilisée est le canola et la réaction est la suivante:\n",
    "\n",
    "<center>\n",
    "<img width=500px src=\"assets/reaction_biodiesel.png\" />\n",
    "</center>\n",
    "\n",
    "Les triglycérides du canola réagissent avec l'alcool et produisent du biodiesel et du glycérol. Une chromatographie est effectuée à la suite de la réaction pour analyser son contenu chimique.\n",
    "\n",
    "<center>\n",
    "<img width=500px src=\"assets/chromato_biodiesel.png\" />\n",
    "</center>\n",
    "\n",
    "Enfin, une analyse numérique dans le logiciel de chromatographie permet d'extraire les données des pics les plus importants. \n",
    "\n",
    "### ⭐ Objectif\n",
    "\n",
    "TBD"
   ]
  },
  {
   "cell_type": "markdown",
   "metadata": {},
   "source": [
    "### 💻 Code\n",
    "\n",
    "Les données que l'on analyse sont d'habitude stockées sur un disque dans un fichier. Il existe une multitude de formats qui existent et les plus utilisés sont: `CSV`, `JSON`, `IPC`, `HDF5` et `Parquet`. \n",
    "\n",
    "Dans Pandas, il y a [plusieurs](https://pandas.pydata.org/docs/reference/io.html) fonctions qui permettent de ouvrir ces fichiers et les convertir facilement en `DataFrame`. \n",
    "\n",
    "Pour cet exemple, on utilise le format de base: `CSV`. "
   ]
  },
  {
   "cell_type": "code",
   "execution_count": null,
   "metadata": {},
   "outputs": [],
   "source": [
    "# Lecture du fichier CSV avec un séparateur \";\"\n",
    "df = pd.read_csv(\"assets/biodiesel.csv\", sep=\";\")\n",
    "\n",
    "df  # Afficher le tableau"
   ]
  },
  {
   "cell_type": "markdown",
   "metadata": {},
   "source": [
    "Dans la sience des données, l'un des outils fondamentaux est l'aggregation de données qui permet de regrouper les données appartenant à un même sous-groupe et en tirer plus facilement des résultats numériques. \n",
    "\n",
    "Avec pandas, cela se fait avec la méthode `groupby` pour regrouper les données sur une ou plusieurs colonnes et `agg` pour spécifier la méthode d'aggregation employée, très souvent sur les données numériques. Après l'aggregation, il bonne pratique de renommer les colonnes pour mieux representer les nouvelles colonnes, avec pandas on peut faire cela avec la méthode `rename`.\n",
    "\n",
    "Les opérations d'aggregation possible sont:\n",
    "\n",
    "| Opération        | Description              |\n",
    "| ---------------- | ------------------------ |\n",
    "| `mean`, `median` | Moyenne, Médiane         |\n",
    "| `count`          | Nombre d'éléments        |\n",
    "| `first`, `last`  | Premier, Dernier élément |\n",
    "| `std`, `var`     | Ecart-type, Variance     |\n",
    "| `min`, `max`     | Minimum, Maximum         |\n",
    "| `sum`, `prod`    | Somme, Produit           |\n"
   ]
  },
  {
   "cell_type": "code",
   "execution_count": null,
   "metadata": {},
   "outputs": [],
   "source": [
    "# Les colonnes sont renommées en utilisant un dictionnaire où les clés sont les anciens noms et les valeurs sont\n",
    "# les nouveaux noms\n",
    "new_col = {\"Time\": \"Avg Time\", \"Area\": \"Total Area\"}\n",
    "\n",
    "# Manipulation du df\n",
    "# -------------------------------------------------\n",
    "# Les étapes peuvent être également écrites sur une seule ligne\n",
    "(\n",
    "    df.groupby(\"Name\", as_index=False)  # Regrouper les lignes par \"Name\", mettre as_index=False est recommandé\n",
    "    .agg({\"Time\": \"mean\", \"Area\": \"sum\"})  # Spécifier l'opération d'aggregation sur les colonnes non-regroupées\n",
    "    .rename(columns=new_col)  # Renommer les colonnes\n",
    ")"
   ]
  },
  {
   "cell_type": "code",
   "execution_count": null,
   "metadata": {},
   "outputs": [],
   "source": [
    "df[df[\"Name\"].str.contains(\"C\")]"
   ]
  },
  {
   "cell_type": "code",
   "execution_count": null,
   "metadata": {},
   "outputs": [],
   "source": [
    "df.assign(Product=lambda x: x[\"Time\"] * x[\"Area\"])"
   ]
  },
  {
   "cell_type": "markdown",
   "metadata": {},
   "source": [
    "## <h2 align=\"center\" id='ex1'> Exemple 3 - TBD</h2>\n",
    "\n",
    "### 📝 Contexte"
   ]
  },
  {
   "cell_type": "code",
   "execution_count": null,
   "metadata": {},
   "outputs": [],
   "source": [
    "# Joins\n",
    "# More groupby"
   ]
  }
 ],
 "metadata": {
  "interpreter": {
   "hash": "25034407fed5d681614dac11a1c0537e8cb49e3a8883c071303eea01322943d9"
  },
  "kernelspec": {
   "display_name": "Python 3.9.0 64-bit",
   "language": "python",
   "name": "python3"
  },
  "language_info": {
   "codemirror_mode": {
    "name": "ipython",
    "version": 3
   },
   "file_extension": ".py",
   "mimetype": "text/x-python",
   "name": "python",
   "nbconvert_exporter": "python",
   "pygments_lexer": "ipython3",
   "version": "3.9.0"
  }
 },
 "nbformat": 4,
 "nbformat_minor": 2
}
