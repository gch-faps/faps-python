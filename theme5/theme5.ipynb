{
 "cells": [
  {
   "cell_type": "markdown",
   "metadata": {},
   "source": [
    "# <h1 align=\"center\"> THEME 5 - Résolution numérique de systèmes dynamiques </h1>\n",
    "\n",
    "### 🎯 Objectifs\n",
    "\n",
    "- Résoudre des ODE linéaires et non-linéaires\n",
    "- Résoudre un système d'ODE\n",
    "\n",
    "### 📚 Notions \n",
    "\n",
    "- [Exemple 1](#ex1):\n",
    "- [Exemple 2](#ex2):\n",
    "- [Exemple 3](#ex3):\n",
    "\n",
    "Un [lexique](#lexique) avec l'ensemble des fonctions qui ont été vues est disponible à la fin du notebook.\n",
    "\n",
    "### 🧰 Librairies\n",
    "\n",
    "- **Scipy**: est une librairie Python open-source utilisée pour le calcul scientifique. SciPy contient des modules pour l'optimisation, l'algèbre linéaire, l'intégration, l'interpolation, les fonctions spéciales, la FFT, le traitement du signal et de l'image, les solveurs ODE et d'autres tâches courantes en sciences et en ingénierie.\n",
    "\n",
    "### 🔗 Référence\n",
    "\n",
    "- [Documentation Scipy](https://docs.scipy.org/doc/scipy/reference/index.html#scipy-api)\n",
    "\n",
    "### ⚙️ Installation\n",
    "\n",
    "`pip install scipy`"
   ]
  },
  {
   "cell_type": "markdown",
   "metadata": {},
   "source": [
    "## <a name=\"ex1\"><h2 align=\"center\"> Exemple 1 - Cinématique Michaelis Menten </h2></a>\n",
    "\n",
    "### 📝 Contexte\n",
    "\n",
    "En biochimie, la cinématique de Michaelis-Menten est un modèle de cinématique très connu qui est utilisée pour décrire la cinématique d'une réaction catalysée par une enzyme agissant sur un substrat unique pour donner irréversiblement un produit. Elle relie la vitesse stationnaire initiale de la réaction à la concentration initiale en substrat et à des paramètres caractéristiques de l'enzyme. \n",
    "\n",
    "Le modèle de cette réaction est sous la forme suivante:\n",
    "\n",
    "$$\n",
    "\\begin{aligned}\n",
    "\\mathrm{E}+\\mathrm{S} \\underset{k_{r}}{\\stackrel{k_{f}}{\\rightleftharpoons}} \\mathrm{ES} \\stackrel{k_{\\mathrm{cat}}}{\\longrightarrow} \\mathrm{E}+\\mathrm{P}\n",
    "\\end{aligned}\n",
    "$$\n",
    "\n",
    "Où $k_{f}$ (constante de vitesse en avant), $k_{r}$ (constante de vitesse en arrière) et $k_{cat}$ (constante de vitesse catalytique) désignent les constantes de vitesse, les doubles flèches entre S (substrat) et ES (complexe enzyme-substrat) représentent le fait que la liaison enzyme-substrat est un processus réversible, et la flèche unique en avant représente la formation de P (produit).\n",
    "\n",
    "En appliquant la loi de conservation de la masse on obtient 4 ODEs non-linéaires:\n",
    "\n",
    "$$\n",
    "\\begin{aligned}\n",
    "\\frac{\\mathrm{d}[\\mathrm{E}]}{\\mathrm{d} t} &=-k_{f}[\\mathrm{E}][\\mathrm{S}]+k_{r}[\\mathrm{ES}]+k_{\\mathrm{cat}}[\\mathrm{ES}] \\\\\n",
    "\\frac{\\mathrm{d}[\\mathrm{S}]}{\\mathrm{d} t} &=-k_{f}[\\mathrm{E}][\\mathrm{S}]+k_{r}[\\mathrm{ES}] \\\\\n",
    "\\frac{\\mathrm{d}[\\mathrm{ES}]}{\\mathrm{d} t} &=k_{f}[\\mathrm{E}][\\mathrm{S}]-k_{r}[\\mathrm{ES}]-k_{\\mathrm{cat}}[\\mathrm{ES}] \\\\\n",
    "\\frac{\\mathrm{d}[\\mathrm{P}]}{\\mathrm{d} t} &=k_{\\mathrm{cat}}[\\mathrm{ES}]\n",
    "\\end{aligned}\n",
    "$$\n",
    "\n",
    "\n",
    "L'équation de michaelis-menten permet de trouver la vitesse de réaction en fonction de la concentration de substrat.\n",
    "\n",
    "$$\n",
    "v = \\frac{\\mathrm{d}[\\mathrm{P}]}{\\mathrm{d} t}=V_{\\max } \\frac{[\\mathrm{S}]}{K_{\\mathrm{M}}+[\\mathrm{S}]}=k_{\\mathrm{cat}}[\\mathrm{E}]_{0} \\frac{[\\mathrm{S}]}{K_{\\mathrm{M}}+[\\mathrm{S}]}\n",
    "$$\n",
    "\n",
    "### ⭐ Objectif\n",
    "\n",
    "- Créer un jeu de données à partir d'un dictionnaire Python contenant les données de fleurs d'iris.\n",
    "- Indexer et filtrer les données."
   ]
  },
  {
   "cell_type": "markdown",
   "metadata": {},
   "source": [
    "### 💻 Code\n",
    "\n"
   ]
  },
  {
   "cell_type": "code",
   "execution_count": null,
   "metadata": {},
   "outputs": [],
   "source": [
    "import numpy as np\n",
    "import scipy.integrate as spi\n",
    "import matplotlib.pyplot as plt\n",
    "\n",
    "# define rate equations for reactions\n",
    "def rate_equations(t, Y, k_f, k_r, k_cat):\n",
    "    # Y ordered E,S,ES,P\n",
    "    dy = [0] * 4\n",
    "    dy[0] = -k_f * Y[0] * Y[1] + (k_r + k_cat) * Y[2]\n",
    "    dy[1] = -k_f * Y[0] * Y[1] + k_r * Y[2]\n",
    "    dy[2] = k_f * Y[0] * Y[1] - (k_r + k_cat) * Y[2]\n",
    "    dy[3] = k_cat * Y[2]\n",
    "    return dy\n",
    "\n",
    "\n",
    "# mol.s-1\n",
    "k_f = 1e-3\n",
    "k_r = 1e-4\n",
    "k_cat = 0.1\n",
    "k = (k_f, k_r, k_cat)\n",
    "t = np.linspace(0, 50, 200)\n",
    "\n",
    "E0 = 200\n",
    "S0 = 500\n",
    "y0 = [E0, S0, 0, 0]  # E,S,ES,P\n",
    "\n",
    "# integrate rate equations\n",
    "rates = spi.solve_ivp(rate_equations, t_span=(0, 50), y0=y0, args=k, t_eval=t)\n",
    "\n",
    "plt.plot(t, rates.y[0], label=\"E\")\n",
    "plt.plot(t, rates.y[1], label=\"S\")\n",
    "plt.plot(t, rates.y[2], label=\"ES\")\n",
    "plt.plot(t, rates.y[3], label=\"P\")\n",
    "plt.legend()\n",
    "plt.show()"
   ]
  },
  {
   "cell_type": "code",
   "execution_count": null,
   "metadata": {},
   "outputs": [],
   "source": [
    "K_m = (k_r + k_cat) / k_f\n",
    "V_max = k_cat / E0\n",
    "\n",
    "\n",
    "def michaelis_menten(S, K_m, V_max):\n",
    "    return (V_max * S) / (S + K_m)\n",
    "\n",
    "\n",
    "S = np.linspace(0, 1e-3, 1000)\n",
    "v = michaelis_menten(S, K_m, V_max)\n",
    "\n",
    "plt.plot(S, v)\n",
    "plt.xlabel(\"S (mol)\")\n",
    "plt.ylabel(\"V (mol.s-1)\")\n",
    "plt.show()"
   ]
  }
 ],
 "metadata": {
  "interpreter": {
   "hash": "25034407fed5d681614dac11a1c0537e8cb49e3a8883c071303eea01322943d9"
  },
  "kernelspec": {
   "display_name": "Python 3.9.0 64-bit",
   "language": "python",
   "name": "python3"
  },
  "language_info": {
   "codemirror_mode": {
    "name": "ipython",
    "version": 3
   },
   "file_extension": ".py",
   "mimetype": "text/x-python",
   "name": "python",
   "nbconvert_exporter": "python",
   "pygments_lexer": "ipython3",
   "version": "3.9.0"
  },
  "vscode": {
   "interpreter": {
    "hash": "25034407fed5d681614dac11a1c0537e8cb49e3a8883c071303eea01322943d9"
   }
  }
 },
 "nbformat": 4,
 "nbformat_minor": 2
}
