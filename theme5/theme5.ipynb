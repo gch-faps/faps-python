{
 "cells": [
  {
   "cell_type": "markdown",
   "metadata": {},
   "source": [
    "# <h1 align=\"center\"> THEME 5 - Résolution numérique de systèmes dynamiques </h1>\n",
    "\n",
    "### 🎯 Objectifs\n",
    "\n",
    "- Résoudre des ODE linéaires et non-linéaires\n",
    "- Résoudre un système d'ODE\n",
    "\n",
    "### 📚 Notions \n",
    "\n",
    "- [Exemple 1](#ex1):\n",
    "- [Exemple 2](#ex2):\n",
    "- [Exemple 3](#ex3):\n",
    "\n",
    "Un [lexique](#lexique) avec l'ensemble des fonctions qui ont été vues est disponible à la fin du notebook.\n",
    "\n",
    "### 🧰 Librairies\n",
    "\n",
    "- **Scipy**: est une librairie Python open-source utilisée pour le calcul scientifique. SciPy contient des modules pour l'optimisation, l'algèbre linéaire, l'intégration, l'interpolation, les fonctions spéciales, la FFT, le traitement du signal et de l'image, les solveurs ODE et d'autres tâches courantes en sciences et en ingénierie.\n",
    "\n",
    "### 🔗 Référence\n",
    "\n",
    "- [Documentation Scipy](https://docs.scipy.org/doc/scipy/reference/index.html#scipy-api)\n",
    "\n",
    "### ⚙️ Installation\n",
    "\n",
    "`pip install scipy`"
   ]
  },
  {
   "cell_type": "markdown",
   "metadata": {},
   "source": [
    "## <a name=\"ex1\"><h2 align=\"center\"> Exemple 1 - Cinématique Michaelis Menten </h2></a>\n",
    "\n",
    "### 📝 Contexte\n",
    "\n",
    "En biochimie, la cinématique de Michaelis-Menten est un modèle de cinématique très connu qui est utilisée pour décrire la cinématique d'une réaction catalysée par une enzyme agissant sur un substrat unique pour donner irréversiblement un produit. Elle relie la vitesse stationnaire initiale de la réaction à la concentration initiale en substrat et à des paramètres caractéristiques de l'enzyme. \n",
    "\n",
    "L'équation de cinématique de Michaelis-Menten est:\n",
    "\n",
    "$$\n",
    "\\begin{aligned}\n",
    "\\frac{d S}{d t}=\\frac{-V_{\\max } S}{K_{M}+S}\n",
    "\\end{aligned}\n",
    "$$\n",
    "\n",
    "Avec:\n",
    "\n",
    "$$\n",
    "\\begin{aligned}\n",
    "V_{\\max } &=5 \\; \\text{g/L.min} \\\\\n",
    "K_{M}&= 10 \\text{g/L} \\\\\n",
    "S_{0}&= 50 \\text{g/L}\n",
    "\\end{aligned}\n",
    "$$\n",
    "\n",
    "### ⭐ Objectif\n",
    "\n",
    "- Créer un jeu de données à partir d'un dictionnaire Python contenant les données de fleurs d'iris.\n",
    "- Indexer et filtrer les données."
   ]
  },
  {
   "cell_type": "markdown",
   "metadata": {},
   "source": []
  }
 ],
 "metadata": {
  "language_info": {
   "name": "python"
  }
 },
 "nbformat": 4,
 "nbformat_minor": 2
}
