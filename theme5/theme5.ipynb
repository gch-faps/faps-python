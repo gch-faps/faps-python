{
 "cells": [
  {
   "cell_type": "markdown",
   "metadata": {},
   "source": [
    "# <h1 align=\"center\"> THEME 5 - Résolution numérique de systèmes dynamiques </h1>\n",
    "\n",
    "### 🎯 Objectifs\n",
    "\n",
    "- Résoudre des ODE linéaires et non-linéaires\n",
    "- Résoudre un système d'ODE\n",
    "\n",
    "### 📚 Notions \n",
    "\n",
    "- [Exemple 1](#ex1): Réaction non-linéaire\n",
    "- [Exemple 2](#ex2):\n",
    "- [Exemple 3](#ex3):\n",
    "\n",
    "Un [lexique](#lexique) avec l'ensemble des fonctions qui ont été vues est disponible à la fin du notebook.\n",
    "\n",
    "### 🧰 Librairies\n",
    "\n",
    "- **Scipy**: est une librairie Python open-source utilisée pour le calcul scientifique. SciPy contient des modules pour l'optimisation, l'algèbre linéaire, l'intégration, l'interpolation, les fonctions spéciales, la FFT, le traitement du signal et de l'image, les solveurs ODE et d'autres tâches courantes en sciences et en ingénierie.\n",
    "\n",
    "### 🔗 Référence\n",
    "\n",
    "- [Documentation Scipy](https://docs.scipy.org/doc/scipy/reference/index.html#scipy-api)\n",
    "\n",
    "### ⚙️ Installation\n",
    "\n",
    "`pip install scipy`"
   ]
  },
  {
   "cell_type": "markdown",
   "metadata": {},
   "source": [
    "## <a name=\"ex1\"><h2 align=\"center\"> Exemple 1 - Réaction Non-Linéaire </h2></a>\n",
    "\n",
    "### 📝 Contexte\n",
    "\n",
    "Soit la réaction suivante:\n",
    "\n",
    "$$\n",
    "2 A \\rightarrow B\n",
    "$$\n",
    "\n",
    "Son équation est une ODE non-linéaire:\n",
    "\n",
    "$$\n",
    "\\frac{d C_{A}}{d t}=-k C_{A}^{2}\n",
    "$$\n",
    "\n",
    "### 🧪 Paramètres\n",
    " \n",
    "Donnée:\n",
    "- $k=2 \\, L.mol^{-1}.min^{-1}$\n",
    "\n",
    "Condition initiale:\n",
    "- $C_{A0}=1 \\, mol.L^{-1}$\n",
    "\n",
    "### ⭐ Objectif\n",
    "\n",
    "Résoudre l'ODE numériquement et tracer la concentration de A entre t=0 et t=10 min avec 26 points."
   ]
  },
  {
   "cell_type": "markdown",
   "metadata": {},
   "source": [
    "### 💻 Code"
   ]
  },
  {
   "cell_type": "markdown",
   "metadata": {},
   "source": [
    "La résolution numérique d'ODEs à conditions initiales avec Scipy est très simple puisque qu'elle necessite qu'une seule fonction: [`solve_ivp`](https://docs.scipy.org/doc/scipy/reference/generated/scipy.integrate.solve_ivp.html#scipy-integrate-solve-ivp). Cette fonction est disponible dans le sous-module `scipy.integrate`."
   ]
  },
  {
   "cell_type": "code",
   "execution_count": null,
   "metadata": {},
   "outputs": [],
   "source": [
    "import numpy as np\n",
    "import scipy.integrate as spi\n",
    "import matplotlib.pyplot as plt"
   ]
  },
  {
   "cell_type": "markdown",
   "metadata": {},
   "source": [
    "L'utilisation de `solve_ivp` necessite 3 arguments obligatoires:\n",
    "\n",
    "- `fun`: Une fonction qui décrit le système d'ODE de la forme suivante: $\\frac{d \\vec{y}}{dt} = f(t, \\vec{y})$\n",
    "- `t_span`: Un intervalle de temps d'intégration fourni avec un tuple: `(t0, tf)`.\n",
    "- `y0`: Le vecteur des conditions initiales $\\vec{y_{0}}$.\n",
    "\n",
    "La résolution d'un système d'ODE est vu dans l'exemple 2, cela utilise les mêmes arguments sauf que la fonction prend un vecteur y comme argument et les conditions initiales sont un vecteur.\n",
    "\n",
    "Notez ici que le pas de temps est déterminé automatiquement mais peut être spécifié en passant à `solve_ivp` un vecteur qui contient les valeurs de temps ou l'on veut évaluer l'ODE avec l'argument (falcultatif) `t_eval`."
   ]
  },
  {
   "cell_type": "code",
   "execution_count": null,
   "metadata": {},
   "outputs": [],
   "source": [
    "# Définition de la fonction\n",
    "# --------------------------------------------------\n",
    "# Le 1er argument doit toujours être t\n",
    "# Le 2ème argument doit toujours être la variable intégrée\n",
    "# Le reste des arguments sont considérés comme supplémentaires\n",
    "# Doit toujours retourner la valeur évaluée (à gauche de l'équation)\n",
    "def f(t, C, k):\n",
    "    \"\"\"\n",
    "    ODE de la réaction 2A -> B\n",
    "    \"\"\"\n",
    "    dC = -k * C**2\n",
    "    return dC\n",
    "\n",
    "\n",
    "# Définition des paramètres\n",
    "# --------------------------------------------------\n",
    "t0 = 0  # Temps initial\n",
    "tf = 10  # Temps final\n",
    "k = 2  # Débit de la réaction\n",
    "C0 = 1  # Concentration initiale\n",
    "vec_t = np.linspace(t0, tf, 26)  # Discrétisation du temps\n",
    "\n",
    "# Résolution de l'ODE\n",
    "# --------------------------------------------------\n",
    "# Rappel: si un tuple ne contient qu'une seule valeur, il faut ajouter une virgule: (x,)\n",
    "sim1 = spi.solve_ivp(\n",
    "    f,  # Fonction de l'ODE\n",
    "    t_span=(t0, tf),  # Intervalle de temps\n",
    "    y0=(C0,),  # Condition initiale\n",
    "    args=(k,),  # Arguments supplémentaires de la fonction\n",
    "    t_eval=vec_t,  # (optionnel) Vecteur de temps où l'ODE doit être évaluée\n",
    ")"
   ]
  },
  {
   "cell_type": "markdown",
   "metadata": {},
   "source": [
    "Le résultat de la résolution est un objet qui contient plusieurs données comme:\n",
    "\n",
    "- `nfev`: Le nombre de fois que la fonction a été évaluée.\n",
    "- `njev`: Le nombre de fois que le Jacobien a été évalué.\n",
    "- `success`: `True` si le solveur a réussi, `False` sinon.\n",
    "- `t`: Le vecteur des valeurs de temps où l'ODE a été évaluée.\n",
    "- `y`: La matrice des valeurs de la solution de l'ODE."
   ]
  },
  {
   "cell_type": "code",
   "execution_count": null,
   "metadata": {},
   "outputs": [],
   "source": [
    "print(sim1)"
   ]
  },
  {
   "cell_type": "markdown",
   "metadata": {},
   "source": [
    "Il faut noter que `sim1.y` est une matrice qui contient la solution d'une variable sur chaque ligne. Puisque dans cet exemple on résout une seule équation, alors la matrice est de dimension 1xN et pour accéder à notre solution il faut indexer la première ligne de la matrice.\n",
    "\n",
    "Enfin, on trace la solution avec Matplotlib."
   ]
  },
  {
   "cell_type": "code",
   "execution_count": null,
   "metadata": {},
   "outputs": [],
   "source": [
    "plt.plot(sim1.t, sim1.y[0])\n",
    "plt.xlabel(\"t (min)\")\n",
    "plt.ylabel(r\"$C_{A}$ (mol/L)\")\n",
    "plt.title(\"Évolution de la concentration de A\")\n",
    "plt.show()"
   ]
  },
  {
   "cell_type": "markdown",
   "metadata": {},
   "source": [
    "## <a name=\"ex2\"><h2 align=\"center\"> Exemple 2 - Cinématique Michaelis-Menten </h2></a>\n",
    "\n",
    "### 📝 Contexte\n",
    "\n",
    "En 1913, les chercheurs Leonor Michaelis et Maud Menten ont proposé un modèle mathématique pour décrire la vitesse d'une réaction enzymatique basée sur sa cinématique. Cette réaction implique qu'une enzyme, E, se lie à un substrat, S, pour former un complexe, ES, qui libère à son tour un produit, P, régénérant l'enzyme d'origine.\n",
    "\n",
    "$$\n",
    "\\begin{aligned}\n",
    "\\mathrm{E}+\\mathrm{S} \\underset{k_{r}}{\\stackrel{k_{f}}{\\rightleftharpoons}} \\mathrm{ES} \\stackrel{k_{\\mathrm{cat}}}{\\longrightarrow} \\mathrm{E}+\\mathrm{P}\n",
    "\\end{aligned}\n",
    "$$\n",
    "\n",
    "Où $k_{f}$ (constante de vitesse en avant), $k_{r}$ (constante de vitesse en arrière) et $k_{cat}$ (constante de vitesse catalytique) désignent les constantes de vitesse, les doubles flèches entre S (substrat) et ES (complexe enzyme-substrat) représentent le fait que la liaison enzyme-substrat est un processus réversible, et la flèche unique en avant représente la formation de P (produit).\n",
    "\n",
    "En appliquant la loi de conservation de la masse on obtient 4 ODEs non-linéaires:\n",
    "\n",
    "$$\n",
    "\\begin{aligned}\n",
    "\\frac{\\mathrm{d}[\\mathrm{E}]}{\\mathrm{d} t} &=-k_{f}[\\mathrm{E}][\\mathrm{S}]+k_{r}[\\mathrm{ES}]+k_{\\mathrm{cat}}[\\mathrm{ES}] \\\\\n",
    "\\frac{\\mathrm{d}[\\mathrm{S}]}{\\mathrm{d} t} &=-k_{f}[\\mathrm{E}][\\mathrm{S}]+k_{r}[\\mathrm{ES}] \\\\\n",
    "\\frac{\\mathrm{d}[\\mathrm{ES}]}{\\mathrm{d} t} &=k_{f}[\\mathrm{E}][\\mathrm{S}]-k_{r}[\\mathrm{ES}]-k_{\\mathrm{cat}}[\\mathrm{ES}] \\\\\n",
    "\\frac{\\mathrm{d}[\\mathrm{P}]}{\\mathrm{d} t} &=k_{\\mathrm{cat}}[\\mathrm{ES}]\n",
    "\\end{aligned}\n",
    "$$\n",
    "\n",
    "### 🧪 Paramètres\n",
    "\n",
    "Données: \n",
    "- $k_{f} = 10^{-3} \\, mol.s^{-1}$\n",
    "- $k_{r} = 10^{-4} \\, mol.s^{-1}$\n",
    "- $k_{cat} = 0.1 \\, mol.s^{-1}$\n",
    "\n",
    "Conditions initiales: \n",
    "- $E_{0} = 200$ \n",
    "- $S_{0} = 500$\n",
    "- $ES_{0} = 0$\n",
    "- $P_{0} = 0$\n",
    "\n",
    "### ⭐ Objectif\n",
    "\n",
    "\n",
    "\n",
    "Résoudre le système d'ODEs numériquement et tracer la concentration de chaque espèce entre t=0 et t=50s. "
   ]
  },
  {
   "cell_type": "markdown",
   "metadata": {},
   "source": [
    "### 💻 Code"
   ]
  },
  {
   "cell_type": "markdown",
   "metadata": {},
   "source": [
    "La résolution du système est assez similaire à l'exemple 1 à quelques exceptions pour accommoder le fait que nous sommes en train de résoudre un système d'ODEs cette fois.\n",
    "\n",
    "- Le deuxième argument de notre fonction doit être un vecteur qui contient chaque variables du système.\n",
    "- La fonction doit retourner un vecteur qui contient les résultats."
   ]
  },
  {
   "cell_type": "code",
   "execution_count": null,
   "metadata": {},
   "outputs": [],
   "source": [
    "# Définition de la fonction\n",
    "# --------------------------------------------------\n",
    "def reaction_enzymatique(t, Y, k_f, k_r, k_cat):\n",
    "    \"\"\"\n",
    "    Système de la réaction enzymatique\n",
    "    Y: vecteur des concentrations -> [E,S,ES,P]\n",
    "    \"\"\"\n",
    "    dy = np.zeros(4)  # Création d'un vecteur de zéros [E,S,ES,P]\n",
    "    dy[0] = -k_f * Y[0] * Y[1] + (k_r + k_cat) * Y[2]  # E\n",
    "    dy[1] = -k_f * Y[0] * Y[1] + k_r * Y[2]  # S\n",
    "    dy[2] = k_f * Y[0] * Y[1] - (k_r + k_cat) * Y[2]  # ES\n",
    "    dy[3] = k_cat * Y[2]  # P\n",
    "    return dy\n",
    "\n",
    "\n",
    "# Définition des paramètres\n",
    "# --------------------------------------------------\n",
    "k_f = 1e-3\n",
    "k_r = 1e-4\n",
    "k_cat = 0.1\n",
    "k = (k_f, k_r, k_cat)\n",
    "t = np.linspace(0, 50, 100)\n",
    "E0 = 200\n",
    "S0 = 500\n",
    "y0 = (E0, S0, 0, 0)  # [E,S,ES,P]\n",
    "\n",
    "# Résolution de l'ODE\n",
    "# --------------------------------------------------\n",
    "sim2 = spi.solve_ivp(reaction_enzymatique, t_span=(0, 50), y0=y0, args=k)"
   ]
  },
  {
   "cell_type": "code",
   "execution_count": null,
   "metadata": {},
   "outputs": [],
   "source": [
    "plt.plot(sim2.t, sim2.y[0], label=\"E\")\n",
    "plt.plot(sim2.t, sim2.y[1], label=\"S\")\n",
    "plt.plot(sim2.t, sim2.y[2], label=\"ES\")\n",
    "plt.plot(sim2.t, sim2.y[3], label=\"P\")\n",
    "plt.legend()\n",
    "plt.grid(True)\n",
    "plt.show()"
   ]
  },
  {
   "cell_type": "markdown",
   "metadata": {},
   "source": [
    "## <a name=\"ex3\"><h2 align=\"center\"> Exemple 3 - Système Masse-Ressort </h2></a>\n",
    "\n",
    "### 📝 Contexte\n",
    "<center>\n",
    "<img src=\"assets/masse_ressort.png\" height=400px/>\n",
    "</center>\n",
    "\n",
    "Dans un système masse-ressort, un ressort est accroché à une surface rigide et la masse se déplace avec un mouvement unidirectionnel. La masse est initialement étirée de sa position naturelle et est ensuite relâchée. En considérant que le frottement est négligeable et en appliquant la deuxième loi de Newton sur le système, on en déduit l’équation différentielle du mouvement de la masse:\n",
    "\n",
    "$$\n",
    "\\frac{d^{2} x}{d t^{2}}+\\left(\\frac{k}{m}\\right) x=0\n",
    "$$\n",
    "\n",
    "Où m est la masse et k est la constante de rappel du ressort.\n",
    "\n",
    "Cette ODE de deuxième ordre peut être convertie en un système de deux équations linéaires: \n",
    "\n",
    "$$\n",
    "\\begin{aligned}\n",
    "&\\frac{d x}{d t} =v \\\\\n",
    "&\\frac{d v}{d t} = -\\left(\\frac{k}{m}\\right) x\n",
    "\\end{aligned}\n",
    "$$\n",
    "\n",
    "### 🧪 Paramètres\n",
    "Données: \n",
    "- $m = 50g$\n",
    "- $k = 2 \\, N/m$\n",
    "\n",
    "Conditions initiales:\n",
    "- $x_{0} = 2$\n",
    "- $v_{0} = 0$\n",
    "\n",
    "### ⭐ Objectif\n",
    "\n",
    "Résoudre le système d'ODE entre t=0 et t=2s avec plusieurs valeurs de précision numérique. "
   ]
  },
  {
   "cell_type": "markdown",
   "metadata": {},
   "source": [
    "### 💻 Code"
   ]
  },
  {
   "cell_type": "markdown",
   "metadata": {},
   "source": [
    "La résolution du système est analogue à la méthode utilisée à l'exemple 2. \n",
    "\n",
    "L'objectif de cet exemple est d'explorer comment modifier la précision de résolution d'un système d'ODE. Sans rentrer dans des détails techniques, les méthodes numériques utilisées dans les solveurs permettent de trouver une une estimation d'erreur, qui minimisée pour être inférieure au maximum de l'un des deux types de tolérances:\n",
    "\n",
    "- `rtol`: tolérance de l'erreur relative. Cette dernière est calculée relativement à la grandeur de la valeur même. Simplement dit, cette tolérance permet de controler le nombre de chiffres significatifs des valeurs qui *ne sont pas proches* de 0. \n",
    "\n",
    "- `atol`: tolérance de l'erreur absolue. Cette dernière est une différence absolue entre la valeur calculée et la valeur réelle. Cette tolérance permet principalement de controler le nombre de chiffres significatifs des valeurs qui *sont proches* de 0.\n",
    "\n",
    "Pour plus d'informations voir cette [explication](https://www.mathworks.com/help/simbio/ug/selecting-absolute-tolerance-and-relative-tolerance-for-simulation.html).\n",
    "\n",
    "Dans Scipy, ces tolérances sont par défaut: 1e-3 pour `rtol` et 1e-6 pour `atol`. Elles peuvent être modifiées en fournissant un nouveau nombre décimal ou un vecteur de nombres décimaux pour controler la précision dans chaque équation. "
   ]
  },
  {
   "cell_type": "code",
   "execution_count": null,
   "metadata": {},
   "outputs": [],
   "source": [
    "# Définition de la fonction\n",
    "# --------------------------------------------------\n",
    "def masse_ressort(t, Y, k, m):\n",
    "    \"\"\"\n",
    "    Système masse-ressort simple\n",
    "    \"\"\"\n",
    "    dy = np.zeros(2)  # Création d'un vecteur de zéros [E,S,ES,P]\n",
    "    dy[0] = Y[1]\n",
    "    dy[1] = -(k / m) * Y[0]\n",
    "    return dy\n",
    "\n",
    "\n",
    "# Définition des paramètres\n",
    "# --------------------------------------------------\n",
    "m = 50e-3  # kg\n",
    "k = 2  # N/m\n",
    "tf = 10\n",
    "t = np.linspace(0, tf, 1000)\n",
    "y0 = (5, 0)  # [x0, v0]\n",
    "\n",
    "# Résolution de l'ODE\n",
    "# --------------------------------------------------\n",
    "sim3_default = spi.solve_ivp(masse_ressort, t_span=(0, tf), y0=y0, args=(k, m), t_eval=t)\n",
    "sim3_low_rtol = spi.solve_ivp(masse_ressort, t_span=(0, tf), y0=y0, args=(k, m), t_eval=t, rtol=1e-2)\n",
    "sim3_low_atol = spi.solve_ivp(masse_ressort, t_span=(0, tf), y0=y0, args=(k, m), t_eval=t, atol=1e-2)"
   ]
  },
  {
   "cell_type": "code",
   "execution_count": null,
   "metadata": {},
   "outputs": [],
   "source": [
    "y = y0[0] * np.cos((k / m) ** 0.5 * t)"
   ]
  },
  {
   "cell_type": "code",
   "execution_count": null,
   "metadata": {},
   "outputs": [],
   "source": [
    "plt.figure(figsize=(10, 6))\n",
    "# plt.plot(sim3_default.t, sim3_default.y[0], label=\"default\")\n",
    "# plt.plot(sim3_low_rtol.t, sim3_low_rtol.y[0], label=\"low rtol\")\n",
    "plt.plot(sim3_low_atol.t, sim3_low_atol.y[0], label=\"low atol\")\n",
    "plt.plot(t, y, label=\"y\")\n",
    "plt.legend()\n",
    "plt.grid(True)\n",
    "plt.show()"
   ]
  },
  {
   "cell_type": "markdown",
   "metadata": {},
   "source": [
    "## <a name=\"ex4\"><h2 align=\"center\"> Exemple 4 - ODE Raide </h2></a>\n",
    "\n",
    "### 📝 Contexte\n",
    "\n",
    "Un exemple classique de système d'EDO rigide est l'analyse cinétique de la réaction chimique autocatalytique de Robertson qui implique 3 espèces:\n",
    "\n",
    "$$\n",
    "\\begin{aligned}\n",
    "&\\dot{x} \\equiv \\frac{\\mathrm{d} x}{\\mathrm{~d} t}=-0.04 x+10^{4} y z \\\\\n",
    "&\\dot{y} \\equiv \\frac{\\mathrm{d} y}{\\mathrm{~d} t}=0.04 x-10^{4} y z-3 \\times 10^{7} y^{2} \\\\\n",
    "&\\dot{z} \\equiv \\frac{\\mathrm{d} z}{\\mathrm{~d} t}=3 \\times 10^{7} y^{2}\n",
    "\\end{aligned}\n",
    "$$\n",
    "\n",
    "Ce système d'ODE est de type raide puisque les constantes cinétiques ont des ordres de grandeur très différents ($10^{4}$ et $10^{7}$). \n",
    "\n",
    "### 🧪 Paramètres\n",
    "\n",
    "Conditions initiales:\n",
    "- $x_{0} = 1$\n",
    "- $y_{0} = 0$\n",
    "- $z_{0} = 0$\n",
    "\n",
    "### ⭐ Objectif\n",
    "\n",
    "Résoudre le système d'ODE entre t=0 et t=500s. "
   ]
  },
  {
   "cell_type": "code",
   "execution_count": null,
   "metadata": {},
   "outputs": [],
   "source": [
    "def deriv(t, y):\n",
    "    x, y, z = y\n",
    "    xdot = -0.04 * x + 1.0e4 * y * z\n",
    "    ydot = 0.04 * x - 1.0e4 * y * z - 3.0e7 * y**2\n",
    "    zdot = 3.0e7 * y**2\n",
    "    return xdot, ydot, zdot\n",
    "\n",
    "\n",
    "t0, tf = 0, 500\n",
    "y0 = (1, 0, 0)\n",
    "soln = spi.solve_ivp(deriv, (t0, tf), y0, method=\"RK45\")\n",
    "print(soln.nfev)\n",
    "soln = spi.solve_ivp(deriv, (t0, tf), y0, method=\"Radau\")\n",
    "print(soln.nfev)"
   ]
  },
  {
   "cell_type": "code",
   "execution_count": null,
   "metadata": {},
   "outputs": [],
   "source": [
    "plt.plot(soln.t, soln.y[0], label=\"[X]\")\n",
    "plt.plot(soln.t, 10**4 * soln.y[1], label=r\"$10^4\\times$[Y]\")\n",
    "plt.plot(soln.t, soln.y[2], label=\"[Z]\")\n",
    "plt.xlabel(\"Temps /s\")\n",
    "plt.ylabel(\"Concentration\")\n",
    "plt.legend()\n",
    "plt.show()"
   ]
  },
  {
   "cell_type": "markdown",
   "metadata": {},
   "source": [
    "## <a name=\"lexique\"><h2 align=\"center\"> Lexique </h2></a>\n",
    "\n",
    "### ✔️ Vu dans l'exemple 1,2,3,4\n",
    "\n",
    "- `spi.solve_ivp`: fonction qui permet de résoudre un système d'ODE.\n"
   ]
  }
 ],
 "metadata": {
  "interpreter": {
   "hash": "25034407fed5d681614dac11a1c0537e8cb49e3a8883c071303eea01322943d9"
  },
  "kernelspec": {
   "display_name": "Python 3.9.0 64-bit",
   "language": "python",
   "name": "python3"
  },
  "language_info": {
   "codemirror_mode": {
    "name": "ipython",
    "version": 3
   },
   "file_extension": ".py",
   "mimetype": "text/x-python",
   "name": "python",
   "nbconvert_exporter": "python",
   "pygments_lexer": "ipython3",
   "version": "3.9.0"
  },
  "vscode": {
   "interpreter": {
    "hash": "25034407fed5d681614dac11a1c0537e8cb49e3a8883c071303eea01322943d9"
   }
  }
 },
 "nbformat": 4,
 "nbformat_minor": 2
}
