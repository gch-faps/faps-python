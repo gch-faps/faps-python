{
 "cells": [
  {
   "cell_type": "markdown",
   "metadata": {},
   "source": [
    "# <h1 align=\"center\"> THEME 5 - Résolution numérique de systèmes dynamiques </h1>\n",
    "\n",
    "### 🎯 Objectifs\n",
    "\n",
    "- Résoudre des ODE linéaires et non-linéaires\n",
    "- Résoudre un système d'ODE\n",
    "\n",
    "### 📚 Notions \n",
    "\n",
    "- [Exemple 1](#ex1):\n",
    "- [Exemple 2](#ex2):\n",
    "- [Exemple 3](#ex3):\n",
    "\n",
    "Un [lexique](#lexique) avec l'ensemble des fonctions qui ont été vues est disponible à la fin du notebook.\n",
    "\n",
    "### 🧰 Librairies\n",
    "\n",
    "- **Scipy**: est une librairie Python open-source utilisée pour le calcul scientifique. SciPy contient des modules pour l'optimisation, l'algèbre linéaire, l'intégration, l'interpolation, les fonctions spéciales, la FFT, le traitement du signal et de l'image, les solveurs ODE et d'autres tâches courantes en sciences et en ingénierie.\n",
    "\n",
    "### 🔗 Référence\n",
    "\n",
    "- [Documentation Scipy](https://docs.scipy.org/doc/scipy/reference/index.html#scipy-api)\n",
    "\n",
    "### ⚙️ Installation\n",
    "\n",
    "`pip install scipy`"
   ]
  },
  {
   "cell_type": "markdown",
   "metadata": {},
   "source": [
    "## <a name=\"ex1\"><h2 align=\"center\"> Exemple 1 - Réaction Non-Linéaire </h2></a>\n",
    "\n",
    "### 📝 Contexte\n",
    "\n",
    "Soit la réaction suivante:\n",
    "\n",
    "$$\n",
    "2 A \\rightarrow B\n",
    "$$\n",
    "\n",
    "Son équation est une ODE non-linéaire:\n",
    "\n",
    "$$\n",
    "\\frac{d C_{A}}{d t}=-k C_{A}^{2}\n",
    "$$\n",
    "\n",
    "Avec\n",
    "\n",
    "- $C_{A0}=1 \\, mol.L^{-1}$\n",
    "- $k=2 \\, L.mol^{-1}.min^{-1}$\n",
    "\n",
    "### ⭐ Objectif\n",
    "\n",
    "Résoudre l'ODE numériquement et tracer la concentration de A entre t=0 et t=10 min avec 26 points."
   ]
  },
  {
   "cell_type": "markdown",
   "metadata": {},
   "source": [
    "### 💻 Code"
   ]
  },
  {
   "cell_type": "markdown",
   "metadata": {},
   "source": [
    "La résolution numérique d'ODEs à conditions initiales avec Scipy est très simple puisque qu'elle necessite qu'une seule fonction: [`solve_ivp`](https://docs.scipy.org/doc/scipy/reference/generated/scipy.integrate.solve_ivp.html#scipy-integrate-solve-ivp). Cette fonction est disponible dans le sous-module `scipy.integrate`."
   ]
  },
  {
   "cell_type": "code",
   "execution_count": null,
   "metadata": {},
   "outputs": [],
   "source": [
    "import numpy as np\n",
    "import scipy.integrate as spi\n",
    "import matplotlib.pyplot as plt"
   ]
  },
  {
   "cell_type": "markdown",
   "metadata": {},
   "source": [
    "L'utilisation de `solve_ivp` necessite 3 arguments obligatoires:\n",
    "\n",
    "- `fun`: Une fonction qui décrit l'ODE de la forme suivante: $\\frac{dy}{dt} = f(t, y)$\n",
    "- `t_span`: Un intervalle de temps d'intégration fourni avec un tuple: `(t0, tf)`.\n",
    "- `y0`: La condition initiale de l'équation.\n",
    "\n",
    "La résolution d'un système d'ODE est vu dans l'exemple 2, cela utilise les mêmes arguments sauf que la fonction prend un vecteur y comme argument et les conditions initiales sont un vecteur.\n",
    "\n",
    "Notez ici que le pas de temps est déterminé automatiquement mais peut être spécifié en passant à `solve_ivp` un vecteur qui contient les valeurs de temps ou l'on veut évaluer l'ODE avec l'argument (falcultatif) `t_eval`."
   ]
  },
  {
   "cell_type": "code",
   "execution_count": null,
   "metadata": {},
   "outputs": [],
   "source": [
    "# Définition de la fonction\n",
    "# --------------------------------------------------\n",
    "# Le 1er argument doit toujours être t\n",
    "# Le 2ème argument doit toujours être la variable intégrée\n",
    "# Le reste des arguments sont considérés comme supplémentaires\n",
    "# Doit toujours retourner la valeur évaluée (à gauche de l'équation)\n",
    "def f(t, C, k):\n",
    "    \"\"\"\n",
    "    ODE de la réaction 2A -> B\n",
    "    \"\"\"\n",
    "    dC = -k * C**2\n",
    "    return dC\n",
    "\n",
    "\n",
    "# Définition des paramètres\n",
    "# --------------------------------------------------\n",
    "t0 = 0  # Temps initial\n",
    "tf = 10  # Temps final\n",
    "k = 2  # Débit de la réaction\n",
    "C0 = 1  # Concentration initiale\n",
    "vec_t = np.linspace(t0, tf, 26)  # Discrétisation du temps\n",
    "\n",
    "# Résolution de l'ODE\n",
    "# --------------------------------------------------\n",
    "# Rappel: si un tuple ne contient qu'une seule valeur, il faut ajouter une virgule: (x,)\n",
    "sim1 = spi.solve_ivp(\n",
    "    f,  # Fonction de l'ODE\n",
    "    (t0, tf),  # Intervalle de temps\n",
    "    (C0,),  # Condition initiale\n",
    "    args=(k,),  # Arguments supplémentaires de la fonction\n",
    "    t_eval=vec_t,  # (optionnel) Vecteur de temps où l'ODE doit être évaluée\n",
    ")"
   ]
  },
  {
   "cell_type": "markdown",
   "metadata": {},
   "source": [
    "Le résultat de la résolution est un objet qui contient plusieurs données comme:\n",
    "\n",
    "- `nfev`: Le nombre de fois que la fonction a été évaluée.\n",
    "- `njev`: Le nombre de fois que le Jacobien a été évalué.\n",
    "- `success`: `True` si le solveur a réussi, `False` sinon.\n",
    "- `t`: Le vecteur des valeurs de temps où l'ODE a été évaluée.\n",
    "- `y`: La matrice des valeurs de la solution de l'ODE."
   ]
  },
  {
   "cell_type": "code",
   "execution_count": null,
   "metadata": {},
   "outputs": [],
   "source": [
    "print(sim1)"
   ]
  },
  {
   "cell_type": "markdown",
   "metadata": {},
   "source": [
    "Il faut noter que `sim1.y` est une matrice qui contient la solution d'une variable sur chaque ligne. Puisque dans cet exemple on résout une seule équation, alors la matrice est de dimension 1xN et pour accéder à notre solution il faut indexer la première ligne de la matrice.\n",
    "\n",
    "Enfin, on trace la solution avec Matplotlib."
   ]
  },
  {
   "cell_type": "code",
   "execution_count": null,
   "metadata": {},
   "outputs": [],
   "source": [
    "plt.plot(sim1.t, sim1.y[0])\n",
    "plt.xlabel(\"t (min)\")\n",
    "plt.ylabel(r\"$C_{A}$ (mol/L)\")\n",
    "plt.title(\"Évolution de la concentration de A\")\n",
    "plt.show()"
   ]
  },
  {
   "cell_type": "markdown",
   "metadata": {},
   "source": [
    "## <a name=\"ex2\"><h2 align=\"center\"> Exemple 2 - Cinématique Michaelis-Menten </h2></a>\n",
    "\n",
    "### 📝 Contexte\n",
    "\n",
    "En 1913, les chercheurs Leonor Michaelis et Maud Menten ont proposé un modèle mathématique pour décrire la vitesse d'une réaction enzymatique basée sur sa cinématique. Cette réaction implique qu'une enzyme, E, se lie à un substrat, S, pour former un complexe, ES, qui libère à son tour un produit, P, régénérant l'enzyme d'origine.\n",
    "\n",
    "$$\n",
    "\\begin{aligned}\n",
    "\\mathrm{E}+\\mathrm{S} \\underset{k_{r}}{\\stackrel{k_{f}}{\\rightleftharpoons}} \\mathrm{ES} \\stackrel{k_{\\mathrm{cat}}}{\\longrightarrow} \\mathrm{E}+\\mathrm{P}\n",
    "\\end{aligned}\n",
    "$$\n",
    "\n",
    "Où $k_{f}$ (constante de vitesse en avant), $k_{r}$ (constante de vitesse en arrière) et $k_{cat}$ (constante de vitesse catalytique) désignent les constantes de vitesse, les doubles flèches entre S (substrat) et ES (complexe enzyme-substrat) représentent le fait que la liaison enzyme-substrat est un processus réversible, et la flèche unique en avant représente la formation de P (produit).\n",
    "\n",
    "En appliquant la loi de conservation de la masse on obtient 4 ODEs non-linéaires:\n",
    "\n",
    "$$\n",
    "\\begin{aligned}\n",
    "\\frac{\\mathrm{d}[\\mathrm{E}]}{\\mathrm{d} t} &=-k_{f}[\\mathrm{E}][\\mathrm{S}]+k_{r}[\\mathrm{ES}]+k_{\\mathrm{cat}}[\\mathrm{ES}] \\\\\n",
    "\\frac{\\mathrm{d}[\\mathrm{S}]}{\\mathrm{d} t} &=-k_{f}[\\mathrm{E}][\\mathrm{S}]+k_{r}[\\mathrm{ES}] \\\\\n",
    "\\frac{\\mathrm{d}[\\mathrm{ES}]}{\\mathrm{d} t} &=k_{f}[\\mathrm{E}][\\mathrm{S}]-k_{r}[\\mathrm{ES}]-k_{\\mathrm{cat}}[\\mathrm{ES}] \\\\\n",
    "\\frac{\\mathrm{d}[\\mathrm{P}]}{\\mathrm{d} t} &=k_{\\mathrm{cat}}[\\mathrm{ES}]\n",
    "\\end{aligned}\n",
    "$$\n",
    "\n",
    "### ⭐ Objectif\n",
    "\n",
    "En prenant:\n",
    "- $k_{f} = 10^{-3} \\, mol.s^{-1}$\n",
    "- $k_{r} = 10^{-4} \\, mol.s^{-1}$\n",
    "- $k_{cat} = 0.1 \\, mol.s^{-1}$\n",
    "\n",
    "Et comme conditions initiales: \n",
    "- $E_{0} = 200$ \n",
    "- $S_{0} = 500$\n",
    "- $ES_{0} = 0$\n",
    "- $P_{0} = 0$\n",
    "\n",
    "Résoudre le système d'ODEs numériquement et tracer la concentration de chaque espèce entre t=0 et t=50s. "
   ]
  },
  {
   "cell_type": "markdown",
   "metadata": {},
   "source": [
    "### 💻 Code"
   ]
  },
  {
   "cell_type": "markdown",
   "metadata": {},
   "source": [
    "La résolution du système est assez similaire à l'exemple 1 à quelques exceptions pour accommoder le fait que nous sommes en train de résoudre un système d'ODEs cette fois.\n",
    "\n",
    "- Le deuxième argument de notre fonction doit être un vecteur qui contient chaque variables du système.\n",
    "- La fonction doit retourner un vecteur qui contient les résultats."
   ]
  },
  {
   "cell_type": "code",
   "execution_count": null,
   "metadata": {},
   "outputs": [],
   "source": [
    "# Définition de la fonction\n",
    "# --------------------------------------------------\n",
    "def reaction_enzymatique(t, Y, k_f, k_r, k_cat):\n",
    "    \"\"\"\n",
    "    Système de la réaction enzymatique\n",
    "    Y: vecteur des concentrations -> [E,S,ES,P]\n",
    "    \"\"\"\n",
    "    dy = [0] * 4  # Création d'un vecteur de zéros [E,S,ES,P]\n",
    "    dy[0] = -k_f * Y[0] * Y[1] + (k_r + k_cat) * Y[2]  # E\n",
    "    dy[1] = -k_f * Y[0] * Y[1] + k_r * Y[2]  # S\n",
    "    dy[2] = k_f * Y[0] * Y[1] - (k_r + k_cat) * Y[2]  # ES\n",
    "    dy[3] = k_cat * Y[2]  # P\n",
    "    return dy\n",
    "\n",
    "\n",
    "# Définition des paramètres\n",
    "# --------------------------------------------------\n",
    "k_f = 1e-3\n",
    "k_r = 1e-4\n",
    "k_cat = 0.1\n",
    "k = (k_f, k_r, k_cat)\n",
    "t = np.linspace(0, 50, 100)\n",
    "E0 = 200\n",
    "S0 = 500\n",
    "y0 = (E0, S0, 0, 0)  # [E,S,ES,P]\n",
    "\n",
    "# Résolution de l'ODE\n",
    "# --------------------------------------------------\n",
    "sim2 = spi.solve_ivp(reaction_enzymatique, t_span=(0, 50), y0=y0, args=k)"
   ]
  },
  {
   "cell_type": "code",
   "execution_count": null,
   "metadata": {},
   "outputs": [],
   "source": [
    "plt.plot(sim2.t, sim2.y[0], label=\"E\")\n",
    "plt.plot(sim2.t, sim2.y[1], label=\"S\")\n",
    "plt.plot(sim2.t, sim2.y[2], label=\"ES\")\n",
    "plt.plot(sim2.t, sim2.y[3], label=\"P\")\n",
    "plt.legend()\n",
    "plt.grid(True)\n",
    "plt.show()"
   ]
  },
  {
   "cell_type": "code",
   "execution_count": null,
   "metadata": {},
   "outputs": [],
   "source": [
    "sim2"
   ]
  }
 ],
 "metadata": {
  "interpreter": {
   "hash": "25034407fed5d681614dac11a1c0537e8cb49e3a8883c071303eea01322943d9"
  },
  "kernelspec": {
   "display_name": "Python 3.9.0 64-bit",
   "language": "python",
   "name": "python3"
  },
  "language_info": {
   "codemirror_mode": {
    "name": "ipython",
    "version": 3
   },
   "file_extension": ".py",
   "mimetype": "text/x-python",
   "name": "python",
   "nbconvert_exporter": "python",
   "pygments_lexer": "ipython3",
   "version": "3.9.0"
  },
  "vscode": {
   "interpreter": {
    "hash": "25034407fed5d681614dac11a1c0537e8cb49e3a8883c071303eea01322943d9"
   }
  }
 },
 "nbformat": 4,
 "nbformat_minor": 2
}
